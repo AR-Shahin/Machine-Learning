{
 "cells": [
  {
   "cell_type": "code",
   "execution_count": 141,
   "id": "596c525c",
   "metadata": {},
   "outputs": [
    {
     "name": "stdout",
     "output_type": "stream",
     "text": [
      "[10001.000000000355]\n"
     ]
    }
   ],
   "source": [
    "import numpy as np\n",
    "import pandas as pd\n",
    "\n",
    "class LinearRegression():\n",
    "    \n",
    "    def __init__(self):\n",
    "        self.w = np.array([])\n",
    "        \n",
    "    def fit(self,X,Y):\n",
    "        X = np.insert(X,0,1,axis=1)\n",
    "        \n",
    "        X = np.array(X)\n",
    "        Y = np.array(Y)\n",
    "\n",
    "        Xt = np.transpose(X)\n",
    "\n",
    "        temp = np.dot(Xt, X)\n",
    "\n",
    "        inv = np.linalg.inv(temp)\n",
    "\n",
    "        res = np.dot(inv, Xt)\n",
    "\n",
    "        w = np.dot(res,Y)\n",
    "        \n",
    "        self.w = w\n",
    "        return w\n",
    "    \n",
    "\n",
    "    \n",
    "    def predict(self,val):\n",
    "  \n",
    "        temp = []\n",
    "\n",
    "        for v in val:\n",
    "            r = 1\n",
    "            t = 0\n",
    "            for i in self.w:\n",
    "               \n",
    "                r += v[t] * i\n",
    "                t += 1\n",
    "            temp.append(r)\n",
    "            \n",
    "        return temp\n",
    "\n",
    "X = [\n",
    "    [2,16,8],\n",
    "    [4,32,8],\n",
    "    [6,64,12],\n",
    "    [8,32,12]\n",
    "]\n",
    "\n",
    "Y = [10000,8000,12000,15000]\n",
    "\n",
    "\n",
    "\n",
    "\n",
    "l = LinearRegression()\n",
    "\n",
    "val = [1,4,32,8]\n",
    "l.fit(X,Y)\n",
    "\n",
    "test = [[1,2,16,8]]\n",
    "r = l.predict(test)\n",
    "\n",
    "print(r)"
   ]
  }
 ],
 "metadata": {
  "kernelspec": {
   "display_name": "Python 3 (ipykernel)",
   "language": "python",
   "name": "python3"
  },
  "language_info": {
   "codemirror_mode": {
    "name": "ipython",
    "version": 3
   },
   "file_extension": ".py",
   "mimetype": "text/x-python",
   "name": "python",
   "nbconvert_exporter": "python",
   "pygments_lexer": "ipython3",
   "version": "3.9.15"
  }
 },
 "nbformat": 4,
 "nbformat_minor": 5
}
