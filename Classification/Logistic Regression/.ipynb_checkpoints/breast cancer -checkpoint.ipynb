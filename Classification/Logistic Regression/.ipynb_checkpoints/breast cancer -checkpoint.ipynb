{
 "cells": [
  {
   "cell_type": "code",
   "execution_count": 1,
   "id": "ee829c5a",
   "metadata": {},
   "outputs": [],
   "source": [
    "import numpy as np\n",
    "import pandas as pd\n",
    "from sklearn.model_selection import train_test_split\n",
    "from sklearn.linear_model import LogisticRegression\n",
    "from sklearn.datasets import load_breast_cancer\n",
    "from sklearn.metrics import accuracy_score\n",
    "from sklearn.model_selection import cross_val_score\n",
    "\n",
    "response = load_breast_cancer()\n",
    "\n",
    "df = pd.DataFrame(response.data,columns=response.feature_names)\n",
    "df['target'] = response.target\n",
    "# df['target'].value_counts()"
   ]
  },
  {
   "cell_type": "code",
   "execution_count": 2,
   "id": "f1270abe",
   "metadata": {},
   "outputs": [],
   "source": [
    "X = df.drop('target',axis=1)\n",
    "Y = df.target\n",
    "\n",
    "X_train,X_test,Y_train,Y_test = train_test_split(X,Y,test_size=.2,stratify=Y,random_state=2)\n",
    "\n",
    "# print(X_train.shape,Y_train.shape)"
   ]
  },
  {
   "cell_type": "code",
   "execution_count": 3,
   "id": "9b18370f",
   "metadata": {},
   "outputs": [
    {
     "data": {
      "text/plain": [
       "0.9582417582417583"
      ]
     },
     "execution_count": 3,
     "metadata": {},
     "output_type": "execute_result"
    }
   ],
   "source": [
    "model = LogisticRegression(max_iter=5000)\n",
    "model.fit(X_train,Y_train)\n",
    "a = model.score(X_train,Y_train)\n",
    "b = model.score(X_test,Y_test)\n",
    "a"
   ]
  },
  {
   "cell_type": "code",
   "execution_count": null,
   "id": "04c971f8",
   "metadata": {},
   "outputs": [],
   "source": [
    "a = cross_val_score(model,X,Y,cv=5)\n",
    "print(a.mean())"
   ]
  },
  {
   "cell_type": "markdown",
   "id": "5021e53f",
   "metadata": {},
   "source": [
    "### accuracy score\n"
   ]
  },
  {
   "cell_type": "code",
   "execution_count": 8,
   "id": "f5561d90",
   "metadata": {},
   "outputs": [
    {
     "data": {
      "text/plain": [
       "0.9649122807017544"
      ]
     },
     "execution_count": 8,
     "metadata": {},
     "output_type": "execute_result"
    }
   ],
   "source": [
    "# Train accuracy score \n",
    "X_train_predicted = model.predict(X_train)\n",
    "X_train_score = accuracy_score(X_train_predicted,Y_train)\n",
    "X_train_score\n",
    "\n",
    "# Test accuracy score \n",
    "X_test_predicted = model.predict(X_test)\n",
    "X_test_score = accuracy_score(X_test_predicted,Y_test)\n",
    "X_test_score"
   ]
  }
 ],
 "metadata": {
  "kernelspec": {
   "display_name": "Python 3 (ipykernel)",
   "language": "python",
   "name": "python3"
  },
  "language_info": {
   "codemirror_mode": {
    "name": "ipython",
    "version": 3
   },
   "file_extension": ".py",
   "mimetype": "text/x-python",
   "name": "python",
   "nbconvert_exporter": "python",
   "pygments_lexer": "ipython3",
   "version": "3.9.12"
  }
 },
 "nbformat": 4,
 "nbformat_minor": 5
}
