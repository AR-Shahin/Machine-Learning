{
 "cells": [
  {
   "cell_type": "code",
   "execution_count": 53,
   "id": "8dbf1f60",
   "metadata": {},
   "outputs": [
    {
     "name": "stdout",
     "output_type": "stream",
     "text": [
      "1647.9605263157894\n"
     ]
    }
   ],
   "source": [
    "import numpy as np\n",
    "import matplotlib.pyplot as plt\n",
    "\n",
    "data_set = [\n",
    "    [6,350],\n",
    "    [8,775],\n",
    "    [12,1150],\n",
    "    [14,1395],\n",
    "    [18,1675]\n",
    "]\n",
    "\n",
    "\n",
    "np_data = np.array(data_set)\n",
    "\n",
    "xpoints = []\n",
    "ypoints = []\n",
    "\n",
    "for i in data_set:\n",
    "    xpoints.append(i[0])\n",
    "    ypoints.append(i[1])\n",
    "\n",
    "\n",
    "np_x = np.array(xpoints)\n",
    "np_y = np.array(ypoints)\n",
    "\n",
    "def calculate_m(x,y):\n",
    "    m = ((np.mean(x) * np.mean(y)) - (np.mean(x*y))) / ((np.mean(x) ** 2) - np.mean(x*x))\n",
    "    return m\n",
    "\n",
    "def clculate_c(x,y,m):\n",
    "    return ((np.mean(y) - (m * np.mean(x))))\n",
    "\n",
    "m = calculate_m(np_x,np_y)\n",
    "\n",
    "c = clculate_c(np_x,np_y,m)\n",
    "\n",
    "def calculate_new_data(x):\n",
    "    y = m * x + c\n",
    "    return y\n",
    "\n",
    "\n",
    "\n",
    "print(calculate_new_data(17))\n"
   ]
  },
  {
   "cell_type": "code",
   "execution_count": null,
   "id": "3bf9c430",
   "metadata": {},
   "outputs": [],
   "source": []
  }
 ],
 "metadata": {
  "kernelspec": {
   "display_name": "Python 3 (ipykernel)",
   "language": "python",
   "name": "python3"
  },
  "language_info": {
   "codemirror_mode": {
    "name": "ipython",
    "version": 3
   },
   "file_extension": ".py",
   "mimetype": "text/x-python",
   "name": "python",
   "nbconvert_exporter": "python",
   "pygments_lexer": "ipython3",
   "version": "3.8.10"
  }
 },
 "nbformat": 4,
 "nbformat_minor": 5
}
