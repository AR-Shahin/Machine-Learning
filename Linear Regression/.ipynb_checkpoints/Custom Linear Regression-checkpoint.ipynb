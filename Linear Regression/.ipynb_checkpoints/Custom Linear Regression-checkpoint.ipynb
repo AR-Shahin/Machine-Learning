{
 "cells": [
  {
   "cell_type": "code",
   "execution_count": 66,
   "id": "8dbf1f60",
   "metadata": {},
   "outputs": [
    {
     "name": "stdout",
     "output_type": "stream",
     "text": [
      "468.59649122807036\n",
      "683.0263157894738\n",
      "1111.8859649122808\n",
      "1326.3157894736842\n",
      "1755.175438596491\n",
      "-5.268683027679585\n"
     ]
    }
   ],
   "source": [
    "import numpy as np\n",
    "import matplotlib.pyplot as plt\n",
    "\n",
    "data_set = [\n",
    "    [6,350],\n",
    "    [8,775],\n",
    "    [12,1150],\n",
    "    [14,1395],\n",
    "    [18,1675]\n",
    "]\n",
    "\n",
    "\n",
    "np_data = np.array(data_set)\n",
    "\n",
    "xpoints = []\n",
    "ypoints = []\n",
    "\n",
    "for i in data_set:\n",
    "    xpoints.append(i[0])\n",
    "    ypoints.append(i[1])\n",
    "\n",
    "\n",
    "np_x = np.array(xpoints)\n",
    "np_y = np.array(ypoints)\n",
    "\n",
    "def calculate_m(x,y):\n",
    "    m = ((np.mean(x) * np.mean(y)) - (np.mean(x*y))) / ((np.mean(x) ** 2) - np.mean(x*x))\n",
    "    return m\n",
    "\n",
    "def clculate_c(x,y,m):\n",
    "    return ((np.mean(y) - (m * np.mean(x))))\n",
    "\n",
    "m = calculate_m(np_x,np_y)\n",
    "\n",
    "c = clculate_c(np_x,np_y,m)\n",
    "\n",
    "def calculate_new_data(x):\n",
    "    y = m * x + c\n",
    "    return y\n",
    "\n",
    "def calculate_many_data(list):\n",
    "    return [(m*x) + c for x in list]\n",
    "\n",
    "predict = calculate_new_data(17)\n",
    "# print(calculate_many_data([6,17]))\n",
    "\n",
    "def caculate_r():\n",
    "    \n",
    "    top = 0\n",
    "    bottom = 0\n",
    "    for x in np_x:\n",
    "#         print(calculate_new_data(x))\n",
    "        top += ((calculate_new_data(x) - np.mean(np_y)) ** 2)\n",
    "    \n",
    "    for y in np_y:\n",
    "        bottom += ((y-np.mean(np_y)) ** 2)\n",
    "        \n",
    "        \n",
    "    return top / bottom\n",
    "\n",
    "\n",
    "print(caculate_r())"
   ]
  },
  {
   "cell_type": "code",
   "execution_count": null,
   "id": "bfb73cd8",
   "metadata": {},
   "outputs": [],
   "source": []
  }
 ],
 "metadata": {
  "kernelspec": {
   "display_name": "Python 3 (ipykernel)",
   "language": "python",
   "name": "python3"
  },
  "language_info": {
   "codemirror_mode": {
    "name": "ipython",
    "version": 3
   },
   "file_extension": ".py",
   "mimetype": "text/x-python",
   "name": "python",
   "nbconvert_exporter": "python",
   "pygments_lexer": "ipython3",
   "version": "3.8.10"
  }
 },
 "nbformat": 4,
 "nbformat_minor": 5
}
