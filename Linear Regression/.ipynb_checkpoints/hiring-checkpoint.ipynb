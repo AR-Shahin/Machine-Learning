{
 "cells": [
  {
   "cell_type": "code",
   "execution_count": 2,
   "id": "964d0548",
   "metadata": {},
   "outputs": [],
   "source": [
    "import numpy as np\n",
    "import pandas as pd\n",
    "from sklearn import linear_model\n",
    "from word2number import w2n"
   ]
  },
  {
   "cell_type": "code",
   "execution_count": 47,
   "id": "c4bfbf84",
   "metadata": {},
   "outputs": [
    {
     "data": {
      "text/plain": [
       "LinearRegression()"
      ]
     },
     "execution_count": 47,
     "metadata": {},
     "output_type": "execute_result"
    }
   ],
   "source": [
    "# load data\n",
    "df = pd.read_csv(\"./data/hiring.csv\")\n",
    "\n",
    "# data preprocessing \n",
    "df.test.fillna(df.test.mean(),inplace=True)\n",
    "df['experience'].fillna('zero',inplace = True)\n",
    "df['experience'] = df['experience'].apply(w2n.word_to_num)\n",
    "\n",
    "X = df.drop(['salary'],axis=1)\n",
    "Y = df.salary\n",
    "\n",
    "# model call\n",
    "model = linear_model.LinearRegression()\n",
    "model.fit(X,Y)\n",
    "\n",
    "# predict value \n",
    "model.predict([[5,6,7]])"
   ]
  }
 ],
 "metadata": {
  "kernelspec": {
   "display_name": "Python 3 (ipykernel)",
   "language": "python",
   "name": "python3"
  },
  "language_info": {
   "codemirror_mode": {
    "name": "ipython",
    "version": 3
   },
   "file_extension": ".py",
   "mimetype": "text/x-python",
   "name": "python",
   "nbconvert_exporter": "python",
   "pygments_lexer": "ipython3",
   "version": "3.9.12"
  }
 },
 "nbformat": 4,
 "nbformat_minor": 5
}
