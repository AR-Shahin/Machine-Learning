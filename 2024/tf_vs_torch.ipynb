{
 "cells": [
  {
   "cell_type": "code",
   "execution_count": 5,
   "id": "3be13c03",
   "metadata": {},
   "outputs": [],
   "source": [
    "import tensorflow as tf\n",
    "import torch\n",
    "import pandas as pd"
   ]
  },
  {
   "cell_type": "code",
   "execution_count": 11,
   "id": "7df6b05c",
   "metadata": {},
   "outputs": [],
   "source": [
    "data_path = \"./data/mail_data.csv\"\n",
    "df = pd.read_csv(data_path)"
   ]
  },
  {
   "cell_type": "code",
   "execution_count": 14,
   "id": "7326c35c-f961-4ffd-ad59-7e9389b530d5",
   "metadata": {},
   "outputs": [],
   "source": [
    "from tensorflow.keras.preprocessing.text import Tokenizer\n",
    "from tensorflow.keras.preprocessing.sequence import pad_sequences\n",
    "\n",
    "# Get the email content\n",
    "X = df['Message']\n",
    "\n",
    "# Tokenize the text\n",
    "tokenizer = Tokenizer(num_words=10000, oov_token='<OOV>')\n",
    "tokenizer.fit_on_texts(X)\n",
    "sequences = tokenizer.texts_to_sequences(X)\n",
    "\n",
    "# Pad the sequences\n",
    "padded_sequences = pad_sequences(sequences, padding='post')\n"
   ]
  },
  {
   "cell_type": "code",
   "execution_count": 22,
   "id": "8f7aa465-503a-4597-b1d8-790d47916982",
   "metadata": {},
   "outputs": [
    {
     "name": "stdout",
     "output_type": "stream",
     "text": [
      "[[1 0]\n",
      " [1 0]\n",
      " [0 1]\n",
      " ...\n",
      " [1 0]\n",
      " [1 0]\n",
      " [1 0]]\n"
     ]
    }
   ],
   "source": [
    "from sklearn.preprocessing import MultiLabelBinarizer\n",
    "\n",
    "# Use MultiLabelBinarizer to encode the labels\n",
    "mlb = MultiLabelBinarizer()\n",
    "y = mlb.fit_transform(df['Category'])\n",
    "\n",
    "# Display the transformed labels\n",
    "print(y)"
   ]
  },
  {
   "cell_type": "code",
   "execution_count": 23,
   "id": "7d4223c8-fc1e-421c-84e2-7e26052ff40c",
   "metadata": {},
   "outputs": [
    {
     "name": "stdout",
     "output_type": "stream",
     "text": [
      "Epoch 1/10\n"
     ]
    },
    {
     "name": "stderr",
     "output_type": "stream",
     "text": [
      "2024-09-20 20:33:41.162022: W tensorflow/tsl/platform/profile_utils/cpu_utils.cc:128] Failed to get CPU frequency: 0 Hz\n"
     ]
    },
    {
     "name": "stdout",
     "output_type": "stream",
     "text": [
      "140/140 [==============================] - 1s 2ms/step - loss: 0.5544 - accuracy: 0.8600 - val_loss: 0.3891 - val_accuracy: 0.8700\n",
      "Epoch 2/10\n",
      "140/140 [==============================] - 0s 1ms/step - loss: 0.3771 - accuracy: 0.8649 - val_loss: 0.3614 - val_accuracy: 0.8700\n",
      "Epoch 3/10\n",
      "140/140 [==============================] - 0s 1ms/step - loss: 0.3660 - accuracy: 0.8649 - val_loss: 0.3517 - val_accuracy: 0.8700\n",
      "Epoch 4/10\n",
      "140/140 [==============================] - 0s 1ms/step - loss: 0.3520 - accuracy: 0.8649 - val_loss: 0.3346 - val_accuracy: 0.8700\n",
      "Epoch 5/10\n",
      "140/140 [==============================] - 0s 1ms/step - loss: 0.3283 - accuracy: 0.8649 - val_loss: 0.3029 - val_accuracy: 0.8700\n",
      "Epoch 6/10\n",
      "140/140 [==============================] - 0s 1ms/step - loss: 0.2817 - accuracy: 0.8654 - val_loss: 0.2456 - val_accuracy: 0.8709\n",
      "Epoch 7/10\n",
      "140/140 [==============================] - 0s 1ms/step - loss: 0.2042 - accuracy: 0.9015 - val_loss: 0.1665 - val_accuracy: 0.9677\n",
      "Epoch 8/10\n",
      "140/140 [==============================] - 0s 1ms/step - loss: 0.1186 - accuracy: 0.9672 - val_loss: 0.0918 - val_accuracy: 0.9722\n",
      "Epoch 9/10\n",
      "140/140 [==============================] - 0s 1ms/step - loss: 0.0716 - accuracy: 0.9807 - val_loss: 0.0688 - val_accuracy: 0.9812\n",
      "Epoch 10/10\n",
      "140/140 [==============================] - 0s 2ms/step - loss: 0.0540 - accuracy: 0.9856 - val_loss: 0.0576 - val_accuracy: 0.9830\n"
     ]
    },
    {
     "data": {
      "text/plain": [
       "<keras.callbacks.History at 0x3015ca0e0>"
      ]
     },
     "execution_count": 23,
     "metadata": {},
     "output_type": "execute_result"
    }
   ],
   "source": [
    "import tensorflow as tf\n",
    "from tensorflow.keras.models import Sequential\n",
    "from tensorflow.keras.layers import Embedding, GlobalAveragePooling1D, Dense\n",
    "\n",
    "# Define the model\n",
    "model = Sequential([\n",
    "    Embedding(input_dim=10000, output_dim=16, input_length=padded_sequences.shape[1]),\n",
    "    GlobalAveragePooling1D(),\n",
    "    Dense(24, activation='relu'),\n",
    "    Dense(len(mlb.classes_), activation='sigmoid')  # Output for multicategory classification\n",
    "])\n",
    "\n",
    "# Compile the model\n",
    "model.compile(loss='binary_crossentropy', optimizer='adam', metrics=['accuracy'])\n",
    "\n",
    "# Train the model\n",
    "model.fit(padded_sequences, y, epochs=10, batch_size=32, validation_split=0.2)\n"
   ]
  },
  {
   "cell_type": "code",
   "execution_count": 27,
   "id": "15fa2e8b-e7d0-4cf8-9f49-e9115c6ad371",
   "metadata": {},
   "outputs": [],
   "source": [
    "model.save('email_classification_model.h5')"
   ]
  },
  {
   "cell_type": "code",
   "execution_count": 45,
   "id": "9975bc6e-2024-4cb1-b893-16d9324e505a",
   "metadata": {},
   "outputs": [
    {
     "name": "stdout",
     "output_type": "stream",
     "text": [
      "1/1 [==============================] - 0s 45ms/step\n",
      "[('ham',)]\n"
     ]
    }
   ],
   "source": [
    "from tensorflow.keras.models import load_model\n",
    "\n",
    "model = load_model('email_classification_model.h5')\n",
    "# New email example\n",
    "new_email = [\"ddddd\"]\n",
    "#new_email = [\"I hope this email finds you well. My name is Anisur Rahman, and I am writing from Bangladesh. I received my I-20 on MS in Artificial intelligence in August (APP-00102794).I noticed that the status in my application portal is still showing as 'initial state,' whereas I believe it should now be in the 'delivery document' stage. I am concerned that there might be an issue. I have attached a screenshot of my portal for your reference.\"]\n",
    "\n",
    "# Tokenize and pad the new email\n",
    "new_sequence = tokenizer.texts_to_sequences(new_email)\n",
    "padded_new_sequence = pad_sequences(new_sequence, padding='post', maxlen=padded_sequences.shape[1])\n",
    "\n",
    "# Make predictions\n",
    "predictions = model.predict(padded_new_sequence)\n",
    "\n",
    "# Convert predictions back to categories\n",
    "predicted_labels = mlb.inverse_transform(predictions > 0.5)  # Use a threshold of 0.5\n",
    "print(predicted_labels)\n"
   ]
  },
  {
   "cell_type": "code",
   "execution_count": 40,
   "id": "c4f679d3-3b7e-483e-9753-80279254c268",
   "metadata": {},
   "outputs": [
    {
     "name": "stdout",
     "output_type": "stream",
     "text": [
      "175/175 [==============================] - 0s 422us/step - loss: 2.2646 - accuracy: 0.8780\n"
     ]
    },
    {
     "name": "stderr",
     "output_type": "stream",
     "text": [
      "/opt/anaconda3/envs/2024/lib/python3.10/site-packages/sklearn/preprocessing/_label.py:900: UserWarning: unknown class(es) ['\\t', '\\n', ' ', '!', '\"', '#', '$', '%', '&', \"'\", '(', ')', '*', '+', ',', '-', '.', '/', '0', '1', '2', '3', '4', '5', '6', '7', '8', '9', ':', ';', '<', '=', '>', '?', '@', 'A', 'B', 'C', 'D', 'E', 'F', 'G', 'H', 'I', 'J', 'K', 'L', 'M', 'N', 'O', 'P', 'Q', 'R', 'S', 'T', 'U', 'V', 'W', 'X', 'Y', 'Z', '[', '\\\\', ']', '^', '_', 'a', 'b', 'c', 'd', 'e', 'f', 'g', 'h', 'i', 'j', 'k', 'l', 'm', 'n', 'o', 'p', 'q', 'r', 's', 't', 'u', 'v', 'w', 'x', 'y', 'z', '|', '~', '\\x91', '\\x92', '\\x93', '\\x94', '\\x96', '¡', '£', '»', 'É', 'Ü', 'è', 'é', 'ì', 'ú', 'ü', '–', '—', '‘', '’', '“', '…', '┾', '〨', '鈥'] will be ignored\n",
      "  warnings.warn(\n"
     ]
    },
    {
     "data": {
      "text/plain": [
       "[2.264597177505493, 0.8779612183570862]"
      ]
     },
     "execution_count": 40,
     "metadata": {},
     "output_type": "execute_result"
    }
   ],
   "source": [
    "# evaluate model\n",
    "# Example evaluation (assuming you have separate test data)\n",
    "test_data = pd.read_csv(data_path)\n",
    "test_sequences = tokenizer.texts_to_sequences(test_data['Message'])\n",
    "padded_test_sequences = pad_sequences(test_sequences, padding='post')\n",
    "y_test = mlb.transform(test_data['Message'])\n",
    "\n",
    "model.evaluate(padded_test_sequences, y_test)\n"
   ]
  }
 ],
 "metadata": {
  "kernelspec": {
   "display_name": "Python 3 (ipykernel)",
   "language": "python",
   "name": "python3"
  },
  "language_info": {
   "codemirror_mode": {
    "name": "ipython",
    "version": 3
   },
   "file_extension": ".py",
   "mimetype": "text/x-python",
   "name": "python",
   "nbconvert_exporter": "python",
   "pygments_lexer": "ipython3",
   "version": "3.10.14"
  }
 },
 "nbformat": 4,
 "nbformat_minor": 5
}
