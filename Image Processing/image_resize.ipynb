{
 "cells": [
  {
   "cell_type": "code",
   "execution_count": null,
   "id": "42f80235",
   "metadata": {},
   "outputs": [
    {
     "ename": "",
     "evalue": "",
     "output_type": "error",
     "traceback": [
      "\u001b[1;31mJupyter cannot be started. Error attempting to locate Jupyter: Running cells requires jupyter and notebook package.\n",
      "\u001b[1;31mRun the following command to install 'jupyter and notebook' into the Python environment. \n",
      "\u001b[1;31mCommand: 'python -m pip install jupyter notebook -U\n",
      "\u001b[1;31mor\n",
      "\u001b[1;31mconda install jupyter notebook -U'\n",
      "\u001b[1;31mClick <a href='https://aka.ms/installJupyterForVSCode'>here</a> for more info."
     ]
    }
   ],
   "source": [
    "import random as rnd\n",
    "import cv2\n",
    "import time\n",
    "import os\n",
    "from skimage import io\n",
    "import matplotlib.pyplot as plt\n",
    "\n",
    "PATH = \"/Users/anisurrahman/Documents/ML/Image Processing/data\"\n"
   ]
  },
  {
   "cell_type": "code",
   "execution_count": null,
   "id": "f7c33dc0",
   "metadata": {},
   "outputs": [
    {
     "ename": "",
     "evalue": "",
     "output_type": "error",
     "traceback": [
      "\u001b[1;31mJupyter cannot be started. Error attempting to locate Jupyter: Running cells requires jupyter and notebook package.\n",
      "\u001b[1;31mRun the following command to install 'jupyter and notebook' into the Python environment. \n",
      "\u001b[1;31mCommand: 'python -m pip install jupyter notebook -U\n",
      "\u001b[1;31mor\n",
      "\u001b[1;31mconda install jupyter notebook -U'\n",
      "\u001b[1;31mClick <a href='https://aka.ms/installJupyterForVSCode'>here</a> for more info."
     ]
    }
   ],
   "source": [
    "class ResizeImage:\n",
    "    def __init__(self,path):\n",
    "        self.PATH = path\n",
    "        \n",
    "    def resize_and_save(self):\n",
    "        for img in os.listdir(self.PATH):\n",
    "            if img == '.DS_Store':\n",
    "                continue \n",
    "            img = os.path.join(self.PATH,img)\n",
    "            \n",
    "            img = cv2.imread(img,cv2.IMREAD_UNCHANGED)\n",
    "            img = img[:,:,::-1]\n",
    "\n",
    "            temp = cv2.resize(img,(500,500))\n",
    "\n",
    "            self.save_into_folder(temp,\"./output\")\n",
    "    \n",
    "    def save_into_folder(self,img,folder,ext = \"jpg\"):\n",
    "        name = str(time.time()).split(\".\")[1]\n",
    "        path = f\"{folder}/{name}.{ext}\"\n",
    "        io.imsave(path,img)\n",
    "        \n",
    "        \n",
    "obj = ResizeImage(PATH)\n",
    "obj.resize_and_save()"
   ]
  }
 ],
 "metadata": {
  "kernelspec": {
   "display_name": "Python 3",
   "language": "python",
   "name": "python3"
  },
  "language_info": {
   "codemirror_mode": {
    "name": "ipython",
    "version": 3
   },
   "file_extension": ".py",
   "mimetype": "text/x-python",
   "name": "python",
   "nbconvert_exporter": "python",
   "pygments_lexer": "ipython3",
   "version": "3.9.6 (default, Oct 18 2022, 12:41:40) \n[Clang 14.0.0 (clang-1400.0.29.202)]"
  },
  "vscode": {
   "interpreter": {
    "hash": "31f2aee4e71d21fbe5cf8b01ff0e069b9275f58929596ceb00d14d90e3e16cd6"
   }
  }
 },
 "nbformat": 4,
 "nbformat_minor": 5
}
