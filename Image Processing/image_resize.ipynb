{
 "cells": [
  {
   "cell_type": "code",
   "execution_count": 3,
   "id": "42f80235",
   "metadata": {},
   "outputs": [],
   "source": [
    "import random as rnd\n",
    "import cv2\n",
    "import time\n",
    "import os\n",
    "from skimage import io\n",
    "import matplotlib.pyplot as plt\n",
    "\n",
    "PATH = \"/Users/anisurrahman/Documents/ML/Image Processing/data\"\n",
    "\n",
    " \n",
    "    "
   ]
  },
  {
   "cell_type": "code",
   "execution_count": null,
   "id": "84e22c44",
   "metadata": {},
   "outputs": [],
   "source": [
    "class ResizeImage:\n",
    "    def __init__(self,path):\n",
    "        self.PATH = path\n",
    "        \n",
    "    def resize_and_save():\n",
    "        for img in os.listdir(self.PATH):\n",
    "            if img == '.DS_Store':\n",
    "                continue \n",
    "            img = os.path.join(self.PATH,img)\n",
    "            \n",
    "            img = cv2.imread(img,cv2.IMREAD_UNCHANGED)\n",
    "            img = img[:,:,::-1]\n",
    "\n",
    "            temp = cv2.resize(img,(500,500))\n",
    "\n",
    "            self.save_into_folder(temp,\"./output\")\n",
    "    \n",
    "    def save_into_folder(self,img,folder,ext = \"jpg\"):\n",
    "        name = str(time.time()).split(\".\")[1]\n",
    "        path = f\"{folder}/{name}.{ext}\"\n",
    "        io.imsave(path,img)\n",
    "        "
   ]
  },
  {
   "cell_type": "code",
   "execution_count": null,
   "id": "2af37bfe",
   "metadata": {},
   "outputs": [],
   "source": [
    "obj = ResizeImage(PATH)\n",
    "obj.resize_and_save()"
   ]
  }
 ],
 "metadata": {
  "kernelspec": {
   "display_name": "Python 3 (ipykernel)",
   "language": "python",
   "name": "python3"
  },
  "language_info": {
   "codemirror_mode": {
    "name": "ipython",
    "version": 3
   },
   "file_extension": ".py",
   "mimetype": "text/x-python",
   "name": "python",
   "nbconvert_exporter": "python",
   "pygments_lexer": "ipython3",
   "version": "3.9.15"
  }
 },
 "nbformat": 4,
 "nbformat_minor": 5
}
