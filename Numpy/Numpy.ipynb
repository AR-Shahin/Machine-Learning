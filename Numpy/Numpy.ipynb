{
  "nbformat": 4,
  "nbformat_minor": 0,
  "metadata": {
    "colab": {
      "name": "Numpy.ipynb",
      "provenance": [],
      "collapsed_sections": []
    },
    "kernelspec": {
      "name": "python3",
      "display_name": "Python 3"
    },
    "language_info": {
      "name": "python"
    }
  },
  "cells": [
    {
      "cell_type": "code",
      "execution_count": null,
      "metadata": {
        "colab": {
          "base_uri": "https://localhost:8080/"
        },
        "id": "VungK3t2JjKL",
        "outputId": "7ab20033-6dbd-467a-ce38-8fff9299cb0e"
      },
      "outputs": [
        {
          "output_type": "stream",
          "name": "stdout",
          "text": [
            "[ 9 10]\n"
          ]
        }
      ],
      "source": [
        "import numpy as np\n",
        "\n",
        "arr = np.arange(1,11,1)\n",
        "brr = np.random.randint(1,10,(3,3))\n",
        "# print(arr)\n",
        "# S = arr[::]\n",
        "# print(S)\n",
        "crr = np.array([[1, 2, 3, 4, 5], [6, 7, 8, 9, 10],[65, 75, 58, 9, 150]])\n",
        "print(crr[1,3:5])"
      ]
    }
  ]
}