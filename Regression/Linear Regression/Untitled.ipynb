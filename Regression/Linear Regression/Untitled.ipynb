{
 "cells": [
  {
   "cell_type": "code",
   "execution_count": 3,
   "id": "4dbe8243",
   "metadata": {},
   "outputs": [
    {
     "data": {
      "text/plain": [
       "3"
      ]
     },
     "execution_count": 3,
     "metadata": {},
     "output_type": "execute_result"
    }
   ],
   "source": [
    "class Solution:\n",
    "    def isHappy(self, n: int) -> bool:\n",
    "        visit = set()\n",
    "        \n",
    "        while n not in visit:\n",
    "            visit.add(n)\n",
    "            n = self.sumOfDigit(n)\n",
    "            \n",
    "            if n == 1:\n",
    "                return True\n",
    "        \n",
    "        return False\n",
    "    \n",
    "    def sumOfDigit(self,n):\n",
    "        sum = 0\n",
    "        \n",
    "        while n:\n",
    "            r = n % 10\n",
    "            \n",
    "            sum += r*r\n",
    "            n = n //10\n",
    "            \n",
    "        return sum"
   ]
  }
 ],
 "metadata": {
  "kernelspec": {
   "display_name": "Python 3 (ipykernel)",
   "language": "python",
   "name": "python3"
  },
  "language_info": {
   "codemirror_mode": {
    "name": "ipython",
    "version": 3
   },
   "file_extension": ".py",
   "mimetype": "text/x-python",
   "name": "python",
   "nbconvert_exporter": "python",
   "pygments_lexer": "ipython3",
   "version": "3.9.12"
  }
 },
 "nbformat": 4,
 "nbformat_minor": 5
}
