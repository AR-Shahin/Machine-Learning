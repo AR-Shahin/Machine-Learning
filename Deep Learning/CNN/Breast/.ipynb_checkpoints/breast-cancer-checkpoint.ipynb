{
 "cells": [
  {
   "cell_type": "code",
   "execution_count": 1,
   "id": "3f659281",
   "metadata": {
    "scrolled": true
   },
   "outputs": [
    {
     "name": "stderr",
     "output_type": "stream",
     "text": [
      "2022-08-18 21:57:50.640976: W tensorflow/stream_executor/platform/default/dso_loader.cc:64] Could not load dynamic library 'libcudart.so.11.0'; dlerror: libcudart.so.11.0: cannot open shared object file: No such file or directory\n",
      "2022-08-18 21:57:50.640999: I tensorflow/stream_executor/cuda/cudart_stub.cc:29] Ignore above cudart dlerror if you do not have a GPU set up on your machine.\n"
     ]
    }
   ],
   "source": [
    "# import necessery libraries and modules\n",
    "import numpy as np\n",
    "import pandas as pd\n",
    "import matplotlib.pyplot as plt\n",
    "import tensorflow as tf\n",
    "import cv2\n",
    "import os\n",
    "import random"
   ]
  },
  {
   "cell_type": "code",
   "execution_count": 2,
   "id": "87d15dc1",
   "metadata": {},
   "outputs": [],
   "source": [
    "# define some constant \n",
    "TRAIN = r\"/home/user/ML/Deep Learning/CNN/Breast/train\"\n",
    "TEST = r\"/home/user/ML/Deep Learning/CNN/Breast/test\"\n",
    "IMAGE_SIZE = 224\n",
    "BATCH_SIZE = 64"
   ]
  },
  {
   "cell_type": "code",
   "execution_count": 3,
   "id": "a15fc3cf",
   "metadata": {},
   "outputs": [],
   "source": [
    "CATEGORIES = [\"Benign\",\"Malignant\",\"Normal\"]\n",
    "\n",
    "data = []\n",
    "for category in CATEGORIES:\n",
    "    folder = os.path.join(TRAIN,category)\n",
    "    label = CATEGORIES.index(category)\n",
    "#     print(folder)\n",
    "    for img in os.listdir(folder):\n",
    "        img = os.path.join(folder,img)\n",
    "        img_arr = cv2.imread(img)\n",
    "        img_arr = cv2.resize(img_arr,(100,100))\n",
    "#         plt.imshow(img_arr)\n",
    "#         print(img_arr)\n",
    "        data.append([img_arr,label])\n",
    "\n",
    "def show_pic(index): \n",
    "    plt.imshow(data[index][0])\n",
    "    plt.show()\n",
    "    \n",
    "# show_pic(5)\n",
    "# show_pic(1)"
   ]
  },
  {
   "cell_type": "code",
   "execution_count": 4,
   "id": "e24b5507",
   "metadata": {},
   "outputs": [
    {
     "name": "stdout",
     "output_type": "stream",
     "text": [
      "Found 224 images belonging to 3 classes.\n",
      "Found 6 images belonging to 3 classes.\n"
     ]
    }
   ],
   "source": [
    "# data pre-processing \n",
    "\n",
    "train_datagen = tf.keras.preprocessing.image.ImageDataGenerator(\n",
    "    rescale=1./255,\n",
    "    shear_range=0.2,\n",
    "    zoom_range=0.2,\n",
    "    horizontal_flip=True,\n",
    "    validation_split=0.1,\n",
    "    vertical_flip=True,\n",
    "    rescale=1\n",
    "    )\n",
    "\n",
    "test_datagen = tf.keras.preprocessing.image.ImageDataGenerator(\n",
    "     rescale=1./255,\n",
    "     validation_split=0.1\n",
    ")\n",
    "\n",
    "train_datagen = train_datagen.flow_from_directory(\n",
    "    directory = TRAIN,\n",
    "    target_size = (IMAGE_SIZE,IMAGE_SIZE),\n",
    "    batch_size = BATCH_SIZE,\n",
    "    subset = 'training'\n",
    ")\n",
    "\n",
    "test_datagen = test_datagen.flow_from_directory(\n",
    "    TEST,\n",
    "    target_size = (IMAGE_SIZE,IMAGE_SIZE),\n",
    "    batch_size = BATCH_SIZE,\n",
    "    subset = 'validation'\n",
    ")\n"
   ]
  },
  {
   "cell_type": "code",
   "execution_count": 5,
   "id": "fed3b507",
   "metadata": {},
   "outputs": [
    {
     "name": "stderr",
     "output_type": "stream",
     "text": [
      "2022-08-18 21:57:54.254758: I tensorflow/stream_executor/cuda/cuda_gpu_executor.cc:975] successful NUMA node read from SysFS had negative value (-1), but there must be at least one NUMA node, so returning NUMA node zero\n",
      "2022-08-18 21:57:54.255105: W tensorflow/stream_executor/platform/default/dso_loader.cc:64] Could not load dynamic library 'libcudart.so.11.0'; dlerror: libcudart.so.11.0: cannot open shared object file: No such file or directory; LD_LIBRARY_PATH: /home/user/anaconda3/lib/python3.9/site-packages/cv2/../../lib64:\n",
      "2022-08-18 21:57:54.255170: W tensorflow/stream_executor/platform/default/dso_loader.cc:64] Could not load dynamic library 'libcublas.so.11'; dlerror: libcublas.so.11: cannot open shared object file: No such file or directory; LD_LIBRARY_PATH: /home/user/anaconda3/lib/python3.9/site-packages/cv2/../../lib64:\n",
      "2022-08-18 21:57:54.255228: W tensorflow/stream_executor/platform/default/dso_loader.cc:64] Could not load dynamic library 'libcublasLt.so.11'; dlerror: libcublasLt.so.11: cannot open shared object file: No such file or directory; LD_LIBRARY_PATH: /home/user/anaconda3/lib/python3.9/site-packages/cv2/../../lib64:\n",
      "2022-08-18 21:57:54.255286: W tensorflow/stream_executor/platform/default/dso_loader.cc:64] Could not load dynamic library 'libcufft.so.10'; dlerror: libcufft.so.10: cannot open shared object file: No such file or directory; LD_LIBRARY_PATH: /home/user/anaconda3/lib/python3.9/site-packages/cv2/../../lib64:\n",
      "2022-08-18 21:57:54.255343: W tensorflow/stream_executor/platform/default/dso_loader.cc:64] Could not load dynamic library 'libcurand.so.10'; dlerror: libcurand.so.10: cannot open shared object file: No such file or directory; LD_LIBRARY_PATH: /home/user/anaconda3/lib/python3.9/site-packages/cv2/../../lib64:\n",
      "2022-08-18 21:57:54.255398: W tensorflow/stream_executor/platform/default/dso_loader.cc:64] Could not load dynamic library 'libcusolver.so.11'; dlerror: libcusolver.so.11: cannot open shared object file: No such file or directory; LD_LIBRARY_PATH: /home/user/anaconda3/lib/python3.9/site-packages/cv2/../../lib64:\n",
      "2022-08-18 21:57:54.255453: W tensorflow/stream_executor/platform/default/dso_loader.cc:64] Could not load dynamic library 'libcusparse.so.11'; dlerror: libcusparse.so.11: cannot open shared object file: No such file or directory; LD_LIBRARY_PATH: /home/user/anaconda3/lib/python3.9/site-packages/cv2/../../lib64:\n",
      "2022-08-18 21:57:54.255509: W tensorflow/stream_executor/platform/default/dso_loader.cc:64] Could not load dynamic library 'libcudnn.so.8'; dlerror: libcudnn.so.8: cannot open shared object file: No such file or directory; LD_LIBRARY_PATH: /home/user/anaconda3/lib/python3.9/site-packages/cv2/../../lib64:\n",
      "2022-08-18 21:57:54.255517: W tensorflow/core/common_runtime/gpu/gpu_device.cc:1850] Cannot dlopen some GPU libraries. Please make sure the missing libraries mentioned above are installed properly if you would like to use GPU. Follow the guide at https://www.tensorflow.org/install/gpu for how to download and setup the required libraries for your platform.\n",
      "Skipping registering GPU devices...\n",
      "2022-08-18 21:57:54.255862: I tensorflow/core/platform/cpu_feature_guard.cc:193] This TensorFlow binary is optimized with oneAPI Deep Neural Network Library (oneDNN) to use the following CPU instructions in performance-critical operations:  AVX2 FMA\n",
      "To enable them in other operations, rebuild TensorFlow with the appropriate compiler flags.\n"
     ]
    }
   ],
   "source": [
    "from tensorflow import keras\n",
    "from tensorflow.keras.models import Sequential\n",
    "from tensorflow.keras.layers import Conv2D,MaxPooling2D,Flatten,Dense\n",
    "\n",
    "model = Sequential()\n",
    "model.add(Conv2D(filters=32,padding='same',strides=2,kernel_size=3,activation='relu',input_shape=(224,224,3)))\n",
    "model.add(MaxPooling2D(pool_size=2,strides=2))\n",
    "\n",
    "model.add(tf.keras.layers.Conv2D(filters=32,padding='same',strides=2,kernel_size=3,activation='relu'))\n",
    "model.add(tf.keras.layers.MaxPool2D(pool_size=2,strides=2))\n",
    "\n",
    "model.add(tf.keras.layers.Conv2D(filters=32,padding='same',strides=2,kernel_size=3,activation='relu'))\n",
    "model.add(tf.keras.layers.MaxPool2D(pool_size=2))\n",
    "\n",
    "model.add(Flatten())\n",
    "model.add(Dense(3,activation='softmax'))"
   ]
  },
  {
   "cell_type": "code",
   "execution_count": 6,
   "id": "2f889e4e",
   "metadata": {},
   "outputs": [
    {
     "name": "stdout",
     "output_type": "stream",
     "text": [
      "Epoch 1/20\n",
      "4/4 [==============================] - 5s 863ms/step - loss: 0.8991 - accuracy: 0.7321 - val_loss: 1.3328 - val_accuracy: 0.3333\n",
      "Epoch 2/20\n",
      "4/4 [==============================] - 4s 971ms/step - loss: 0.7970 - accuracy: 0.7321 - val_loss: 1.6363 - val_accuracy: 0.3333\n",
      "Epoch 3/20\n",
      "4/4 [==============================] - 4s 1s/step - loss: 0.7884 - accuracy: 0.7321 - val_loss: 1.3517 - val_accuracy: 0.3333\n",
      "Epoch 4/20\n",
      "4/4 [==============================] - 3s 760ms/step - loss: 0.7822 - accuracy: 0.7321 - val_loss: 1.2696 - val_accuracy: 0.3333\n",
      "Epoch 5/20\n",
      "4/4 [==============================] - 4s 766ms/step - loss: 0.7869 - accuracy: 0.7321 - val_loss: 1.3268 - val_accuracy: 0.3333\n",
      "Epoch 6/20\n",
      "4/4 [==============================] - 4s 1s/step - loss: 0.7750 - accuracy: 0.7321 - val_loss: 1.3910 - val_accuracy: 0.3333\n",
      "Epoch 7/20\n",
      "4/4 [==============================] - 4s 886ms/step - loss: 0.7750 - accuracy: 0.7321 - val_loss: 1.4334 - val_accuracy: 0.3333\n",
      "Epoch 8/20\n",
      "4/4 [==============================] - 4s 772ms/step - loss: 0.7733 - accuracy: 0.7321 - val_loss: 1.3920 - val_accuracy: 0.3333\n",
      "Epoch 9/20\n",
      "4/4 [==============================] - 3s 865ms/step - loss: 0.7739 - accuracy: 0.7321 - val_loss: 1.4071 - val_accuracy: 0.3333\n",
      "Epoch 10/20\n",
      "4/4 [==============================] - 3s 893ms/step - loss: 0.7679 - accuracy: 0.7321 - val_loss: 1.3721 - val_accuracy: 0.3333\n",
      "Epoch 11/20\n",
      "4/4 [==============================] - 3s 672ms/step - loss: 0.7681 - accuracy: 0.7321 - val_loss: 1.3985 - val_accuracy: 0.3333\n",
      "Epoch 12/20\n",
      "4/4 [==============================] - 3s 646ms/step - loss: 0.7683 - accuracy: 0.7321 - val_loss: 1.4458 - val_accuracy: 0.3333\n",
      "Epoch 13/20\n",
      "4/4 [==============================] - 3s 900ms/step - loss: 0.7640 - accuracy: 0.7321 - val_loss: 1.4598 - val_accuracy: 0.3333\n",
      "Epoch 14/20\n",
      "4/4 [==============================] - 4s 757ms/step - loss: 0.7635 - accuracy: 0.7321 - val_loss: 1.4851 - val_accuracy: 0.3333\n",
      "Epoch 15/20\n",
      "4/4 [==============================] - 3s 718ms/step - loss: 0.7695 - accuracy: 0.7321 - val_loss: 1.4860 - val_accuracy: 0.3333\n",
      "Epoch 16/20\n",
      "4/4 [==============================] - 3s 682ms/step - loss: 0.7670 - accuracy: 0.7321 - val_loss: 1.4327 - val_accuracy: 0.3333\n",
      "Epoch 17/20\n",
      "4/4 [==============================] - 3s 695ms/step - loss: 0.7662 - accuracy: 0.7321 - val_loss: 1.4013 - val_accuracy: 0.3333\n",
      "Epoch 18/20\n",
      "4/4 [==============================] - 3s 735ms/step - loss: 0.7663 - accuracy: 0.7321 - val_loss: 1.3975 - val_accuracy: 0.3333\n",
      "Epoch 19/20\n",
      "4/4 [==============================] - 3s 697ms/step - loss: 0.7641 - accuracy: 0.7321 - val_loss: 1.3780 - val_accuracy: 0.3333\n",
      "Epoch 20/20\n",
      "4/4 [==============================] - 3s 663ms/step - loss: 0.7638 - accuracy: 0.7321 - val_loss: 1.3987 - val_accuracy: 0.3333\n"
     ]
    },
    {
     "data": {
      "text/plain": [
       "<keras.callbacks.History at 0x7f272431f700>"
      ]
     },
     "execution_count": 6,
     "metadata": {},
     "output_type": "execute_result"
    }
   ],
   "source": [
    "model.compile(optimizer='adam',loss='categorical_crossentropy',metrics=['accuracy'])\n",
    "\n",
    "history = model.fit(train_datagen,epochs=20,validation_data=test_datagen)\n",
    "history"
   ]
  },
  {
   "cell_type": "code",
   "execution_count": 7,
   "id": "fe27a47a",
   "metadata": {},
   "outputs": [
    {
     "name": "stderr",
     "output_type": "stream",
     "text": [
      "/tmp/ipykernel_34902/1437610257.py:5: UserWarning: `Model.evaluate_generator` is deprecated and will be removed in a future version. Please use `Model.evaluate`, which supports generators.\n",
      "  model.evaluate_generator(generator=train_datagen)\n"
     ]
    },
    {
     "data": {
      "text/plain": [
       "[0.766635000705719, 0.7321428656578064]"
      ]
     },
     "execution_count": 7,
     "metadata": {},
     "output_type": "execute_result"
    }
   ],
   "source": [
    "# model.summary()\n",
    "from tensorflow.keras.models import Model\n",
    "a = np.array(history.history['accuracy']).mean()\n",
    "# history.history\n",
    "model.evaluate_generator(generator=train_datagen)"
   ]
  },
  {
   "cell_type": "code",
   "execution_count": 8,
   "id": "e3d28339",
   "metadata": {},
   "outputs": [
    {
     "name": "stdout",
     "output_type": "stream",
     "text": [
      "1/1 [==============================] - 0s 70ms/step\n",
      "[[0.12152435 0.09514564 0.78332996]]\n",
      "Normal\n"
     ]
    }
   ],
   "source": [
    "from keras.preprocessing import image\n",
    "path = \"/home/user/ML/Deep Learning/CNN/Breast/check\"\n",
    "# path = \"/home/user/ML/Deep Learning/CNN/Covid/test/Normal\"\n",
    "img = path + \"/maligant.jpg\"\n",
    "try:\n",
    "    \n",
    "    img_pred = tf.keras.utils.load_img(img,target_size=(IMAGE_SIZE,IMAGE_SIZE))\n",
    "    img_pred = tf.keras.utils.img_to_array(img_pred)\n",
    "    img_pred = img_pred / 255\n",
    "    img_pred = np.expand_dims(img_pred, axis=0)\n",
    "except:\n",
    "    print(\"file not found!\")\n",
    "\n",
    "result = model.predict(img_pred)\n",
    "# plt.imshow(img_pred)\n",
    "print(result)\n",
    "# print(get_label(np.argmax(result)))\n",
    "print(CATEGORIES[np.argmax(result)])"
   ]
  }
 ],
 "metadata": {
  "kernelspec": {
   "display_name": "Python 3 (ipykernel)",
   "language": "python",
   "name": "python3"
  },
  "language_info": {
   "codemirror_mode": {
    "name": "ipython",
    "version": 3
   },
   "file_extension": ".py",
   "mimetype": "text/x-python",
   "name": "python",
   "nbconvert_exporter": "python",
   "pygments_lexer": "ipython3",
   "version": "3.9.12"
  }
 },
 "nbformat": 4,
 "nbformat_minor": 5
}
