{
 "cells": [
  {
   "cell_type": "code",
   "execution_count": 1,
   "id": "ab1719cd",
   "metadata": {},
   "outputs": [
    {
     "name": "stderr",
     "output_type": "stream",
     "text": [
      "2022-07-04 22:02:37.140228: W tensorflow/stream_executor/platform/default/dso_loader.cc:64] Could not load dynamic library 'libcudart.so.11.0'; dlerror: libcudart.so.11.0: cannot open shared object file: No such file or directory\n",
      "2022-07-04 22:02:37.140248: I tensorflow/stream_executor/cuda/cudart_stub.cc:29] Ignore above cudart dlerror if you do not have a GPU set up on your machine.\n"
     ]
    }
   ],
   "source": [
    "import numpy as np\n",
    "import pandas as pd\n",
    "import matplotlib.pyplot as plt\n",
    "import tensorflow as tf\n",
    "import cv2\n",
    "import os\n",
    "import random"
   ]
  },
  {
   "cell_type": "code",
   "execution_count": 2,
   "id": "61aa163b",
   "metadata": {},
   "outputs": [],
   "source": [
    "DIRECTORY = r\"/home/user/ML/Deep Learning/CNN/Potato/PlantVillage\"\n",
    "\n",
    "CATEGORIES = [\"Potato___Early_blight\",\"Potato___healthy\",\"Potato___Late_blight\"]\n",
    "\n",
    "IMAGE_SIZE = 100\n",
    "BATCH_SIZE = 32"
   ]
  },
  {
   "cell_type": "code",
   "execution_count": 3,
   "id": "5f7765ad",
   "metadata": {},
   "outputs": [
    {
     "name": "stdout",
     "output_type": "stream",
     "text": [
      "Found 1937 images belonging to 3 classes.\n",
      "Found 215 images belonging to 3 classes.\n"
     ]
    }
   ],
   "source": [
    "train_datagen = tf.keras.preprocessing.image.ImageDataGenerator(\n",
    "    rescale=1./255,\n",
    "    shear_range=0.2,\n",
    "    zoom_range=0.2,\n",
    "    horizontal_flip=True,\n",
    "    validation_split=0.1\n",
    "    )\n",
    "\n",
    "test_datagen = tf.keras.preprocessing.image.ImageDataGenerator(\n",
    "     rescale=1./255,\n",
    "     validation_split=0.1\n",
    ")\n",
    "\n",
    "train_datagen = train_datagen.flow_from_directory(\n",
    "    DIRECTORY,\n",
    "    target_size = (IMAGE_SIZE,IMAGE_SIZE),\n",
    "    batch_size = BATCH_SIZE,\n",
    "    subset = 'training'\n",
    ")\n",
    "\n",
    "test_datagen = test_datagen.flow_from_directory(\n",
    "    DIRECTORY,\n",
    "    target_size = (IMAGE_SIZE,IMAGE_SIZE),\n",
    "    batch_size = BATCH_SIZE,\n",
    "    subset = 'validation'\n",
    ")"
   ]
  },
  {
   "cell_type": "code",
   "execution_count": 4,
   "id": "d8ba3266",
   "metadata": {},
   "outputs": [
    {
     "data": {
      "text/plain": [
       "{'Potato___Early_blight': 0, 'Potato___Late_blight': 1, 'Potato___healthy': 2}"
      ]
     },
     "execution_count": 4,
     "metadata": {},
     "output_type": "execute_result"
    }
   ],
   "source": [
    "train_datagen.class_indices\n"
   ]
  },
  {
   "cell_type": "code",
   "execution_count": 5,
   "id": "17d55231",
   "metadata": {},
   "outputs": [
    {
     "name": "stderr",
     "output_type": "stream",
     "text": [
      "2022-07-04 22:02:38.720215: I tensorflow/stream_executor/cuda/cuda_gpu_executor.cc:975] successful NUMA node read from SysFS had negative value (-1), but there must be at least one NUMA node, so returning NUMA node zero\n",
      "2022-07-04 22:02:38.720917: W tensorflow/stream_executor/platform/default/dso_loader.cc:64] Could not load dynamic library 'libcudart.so.11.0'; dlerror: libcudart.so.11.0: cannot open shared object file: No such file or directory; LD_LIBRARY_PATH: /home/user/anaconda3/lib/python3.9/site-packages/cv2/../../lib64:\n",
      "2022-07-04 22:02:38.721144: W tensorflow/stream_executor/platform/default/dso_loader.cc:64] Could not load dynamic library 'libcublas.so.11'; dlerror: libcublas.so.11: cannot open shared object file: No such file or directory; LD_LIBRARY_PATH: /home/user/anaconda3/lib/python3.9/site-packages/cv2/../../lib64:\n",
      "2022-07-04 22:02:38.721339: W tensorflow/stream_executor/platform/default/dso_loader.cc:64] Could not load dynamic library 'libcublasLt.so.11'; dlerror: libcublasLt.so.11: cannot open shared object file: No such file or directory; LD_LIBRARY_PATH: /home/user/anaconda3/lib/python3.9/site-packages/cv2/../../lib64:\n",
      "2022-07-04 22:02:38.721528: W tensorflow/stream_executor/platform/default/dso_loader.cc:64] Could not load dynamic library 'libcufft.so.10'; dlerror: libcufft.so.10: cannot open shared object file: No such file or directory; LD_LIBRARY_PATH: /home/user/anaconda3/lib/python3.9/site-packages/cv2/../../lib64:\n",
      "2022-07-04 22:02:38.721721: W tensorflow/stream_executor/platform/default/dso_loader.cc:64] Could not load dynamic library 'libcurand.so.10'; dlerror: libcurand.so.10: cannot open shared object file: No such file or directory; LD_LIBRARY_PATH: /home/user/anaconda3/lib/python3.9/site-packages/cv2/../../lib64:\n",
      "2022-07-04 22:02:38.721912: W tensorflow/stream_executor/platform/default/dso_loader.cc:64] Could not load dynamic library 'libcusolver.so.11'; dlerror: libcusolver.so.11: cannot open shared object file: No such file or directory; LD_LIBRARY_PATH: /home/user/anaconda3/lib/python3.9/site-packages/cv2/../../lib64:\n",
      "2022-07-04 22:02:38.722103: W tensorflow/stream_executor/platform/default/dso_loader.cc:64] Could not load dynamic library 'libcusparse.so.11'; dlerror: libcusparse.so.11: cannot open shared object file: No such file or directory; LD_LIBRARY_PATH: /home/user/anaconda3/lib/python3.9/site-packages/cv2/../../lib64:\n",
      "2022-07-04 22:02:38.722294: W tensorflow/stream_executor/platform/default/dso_loader.cc:64] Could not load dynamic library 'libcudnn.so.8'; dlerror: libcudnn.so.8: cannot open shared object file: No such file or directory; LD_LIBRARY_PATH: /home/user/anaconda3/lib/python3.9/site-packages/cv2/../../lib64:\n",
      "2022-07-04 22:02:38.722320: W tensorflow/core/common_runtime/gpu/gpu_device.cc:1850] Cannot dlopen some GPU libraries. Please make sure the missing libraries mentioned above are installed properly if you would like to use GPU. Follow the guide at https://www.tensorflow.org/install/gpu for how to download and setup the required libraries for your platform.\n",
      "Skipping registering GPU devices...\n",
      "2022-07-04 22:02:38.723564: I tensorflow/core/platform/cpu_feature_guard.cc:193] This TensorFlow binary is optimized with oneAPI Deep Neural Network Library (oneDNN) to use the following CPU instructions in performance-critical operations:  AVX2 FMA\n",
      "To enable them in other operations, rebuild TensorFlow with the appropriate compiler flags.\n"
     ]
    }
   ],
   "source": [
    "from tensorflow import keras\n",
    "from tensorflow.keras.models import Sequential\n",
    "from tensorflow.keras.layers import Conv2D,MaxPooling2D,Flatten,Dense\n",
    "\n",
    "model = Sequential()\n",
    "\n",
    "# Layer One \n",
    "model.add(Conv2D(filters = 64, kernel_size = (3,3),activation = 'relu', input_shape = (IMAGE_SIZE,IMAGE_SIZE,3)))\n",
    "model.add(MaxPooling2D(pool_size=2,strides=2))\n",
    "\n",
    "model.add(Flatten())\n",
    "model.add(Dense(3,activation='softmax'))"
   ]
  },
  {
   "cell_type": "code",
   "execution_count": null,
   "id": "122830cf",
   "metadata": {},
   "outputs": [
    {
     "name": "stdout",
     "output_type": "stream",
     "text": [
      "Epoch 1/50\n",
      "61/61 [==============================] - 10s 156ms/step - loss: 0.8742 - accuracy: 0.6908 - val_loss: 0.3029 - val_accuracy: 0.9070\n",
      "Epoch 2/50\n",
      "61/61 [==============================] - 10s 157ms/step - loss: 0.3203 - accuracy: 0.8807 - val_loss: 0.3272 - val_accuracy: 0.8744\n",
      "Epoch 3/50\n",
      "61/61 [==============================] - 9s 151ms/step - loss: 0.2156 - accuracy: 0.9257 - val_loss: 0.4701 - val_accuracy: 0.7860\n",
      "Epoch 4/50\n",
      "61/61 [==============================] - 9s 150ms/step - loss: 0.2196 - accuracy: 0.9189 - val_loss: 0.4885 - val_accuracy: 0.7907\n",
      "Epoch 5/50\n",
      "61/61 [==============================] - 9s 145ms/step - loss: 0.1630 - accuracy: 0.9473 - val_loss: 0.6376 - val_accuracy: 0.7442\n",
      "Epoch 6/50\n",
      "61/61 [==============================] - 9s 143ms/step - loss: 0.1214 - accuracy: 0.9556 - val_loss: 0.2484 - val_accuracy: 0.9070\n",
      "Epoch 7/50\n",
      "61/61 [==============================] - 9s 144ms/step - loss: 0.1052 - accuracy: 0.9675 - val_loss: 0.4108 - val_accuracy: 0.8605\n",
      "Epoch 8/50\n",
      "61/61 [==============================] - 9s 143ms/step - loss: 0.1289 - accuracy: 0.9556 - val_loss: 0.2527 - val_accuracy: 0.8977\n",
      "Epoch 9/50\n",
      "18/61 [=======>......................] - ETA: 6s - loss: 0.0910 - accuracy: 0.9768"
     ]
    }
   ],
   "source": [
    "model.compile(optimizer='adam',loss='categorical_crossentropy',metrics=['accuracy'])\n",
    "\n",
    "model.fit(train_datagen,epochs=50,validation_data=test_datagen)\n",
    "\n",
    "model.summary()"
   ]
  },
  {
   "cell_type": "code",
   "execution_count": null,
   "id": "d7e458d9",
   "metadata": {},
   "outputs": [],
   "source": [
    "def get_result(index):\n",
    "    for val in train_datagen.class_indices:\n",
    "        if train_datagen.class_indices[val] == index:\n",
    "            val = val.split(\"___\")\n",
    "            return val[1]\n",
    "        \n",
    "\n",
    "\n",
    "from keras.preprocessing import image\n",
    "# path = \"/home/user/ML/Deep Learning/CNN/Covid/test/net\"\n",
    "path = r\"/home/user/ML/Deep Learning/CNN/Potato/Test\"\n",
    "img = path + \"/light.JPG\"\n",
    "try:\n",
    "    \n",
    "    img_pred = tf.keras.utils.load_img(img,target_size=(IMAGE_SIZE,IMAGE_SIZE))\n",
    "    img_pred = tf.keras.utils.img_to_array(img_pred)\n",
    "    img_pred = img_pred / 255\n",
    "    plt.imshow(img_pred)\n",
    "    img_pred = np.expand_dims(img_pred, axis=0)\n",
    "except:\n",
    "    print(\"file not found!\")\n"
   ]
  },
  {
   "cell_type": "code",
   "execution_count": null,
   "id": "50fb7daf",
   "metadata": {},
   "outputs": [],
   "source": [
    "result = model.predict(img_pred)\n",
    "index = np.argmax(result)\n",
    "print(\"Index -> \" , index)\n",
    "print(\"Result -> \" ,get_result(index))"
   ]
  },
  {
   "cell_type": "code",
   "execution_count": null,
   "id": "fea7dbec",
   "metadata": {},
   "outputs": [],
   "source": []
  }
 ],
 "metadata": {
  "kernelspec": {
   "display_name": "Python 3 (ipykernel)",
   "language": "python",
   "name": "python3"
  },
  "language_info": {
   "codemirror_mode": {
    "name": "ipython",
    "version": 3
   },
   "file_extension": ".py",
   "mimetype": "text/x-python",
   "name": "python",
   "nbconvert_exporter": "python",
   "pygments_lexer": "ipython3",
   "version": "3.9.12"
  }
 },
 "nbformat": 4,
 "nbformat_minor": 5
}
