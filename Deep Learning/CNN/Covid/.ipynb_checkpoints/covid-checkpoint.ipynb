{
 "cells": [
  {
   "cell_type": "code",
   "execution_count": 1,
   "id": "60326936",
   "metadata": {},
   "outputs": [
    {
     "name": "stderr",
     "output_type": "stream",
     "text": [
      "2022-07-06 20:22:15.198468: W tensorflow/stream_executor/platform/default/dso_loader.cc:64] Could not load dynamic library 'libcudart.so.11.0'; dlerror: libcudart.so.11.0: cannot open shared object file: No such file or directory\n",
      "2022-07-06 20:22:15.198488: I tensorflow/stream_executor/cuda/cudart_stub.cc:29] Ignore above cudart dlerror if you do not have a GPU set up on your machine.\n"
     ]
    }
   ],
   "source": [
    "import numpy as np\n",
    "import pandas as pd\n",
    "import matplotlib.pyplot as plt\n",
    "import tensorflow as tf\n",
    "import cv2\n",
    "import os\n",
    "import random"
   ]
  },
  {
   "cell_type": "code",
   "execution_count": 2,
   "id": "18d072b7",
   "metadata": {},
   "outputs": [],
   "source": [
    "DIRECTORY = r\"/home/user/ML/Deep Learning/CNN/Covid/train\"\n",
    "TEST = r\"/home/user/ML/Deep Learning/CNN/Covid/test\"\n",
    "\n",
    "CATEGORIES = [\"Covid\",\"Normal\",\"Viral Pneumonia\"]\n",
    "\n",
    "data = []\n",
    "for category in CATEGORIES:\n",
    "    folder = os.path.join(DIRECTORY,category)\n",
    "    label = CATEGORIES.index(category)\n",
    "#     print(folder)\n",
    "    for img in os.listdir(folder):\n",
    "        img = os.path.join(folder,img)\n",
    "        img_arr = cv2.imread(img)\n",
    "        img_arr = cv2.resize(img_arr,(100,100))\n",
    "#         plt.imshow(img_arr)\n",
    "#         print(img_arr)\n",
    "        data.append([img_arr,label])\n",
    "        "
   ]
  },
  {
   "cell_type": "code",
   "execution_count": 3,
   "id": "7db77e8b",
   "metadata": {},
   "outputs": [],
   "source": [
    "def get_label(index):\n",
    "    if index == 0:\n",
    "        return \"Covid\"\n",
    "    if index == 1:\n",
    "        return \"Normal\"\n",
    "    if index == 2:\n",
    "        return \"Viral Pneumonia\"\n",
    "    \n",
    "def show_pic(index): \n",
    "    plt.imshow(data[index][0])\n",
    "    plt.xlabel(get_label(data[index][1]))\n",
    "    plt.show()\n",
    "    \n",
    "# show_pic(5)\n",
    "# show_pic(1)\n"
   ]
  },
  {
   "cell_type": "code",
   "execution_count": 4,
   "id": "957edcb9",
   "metadata": {},
   "outputs": [],
   "source": [
    "random.shuffle(data)\n",
    "# show_pic(2)"
   ]
  },
  {
   "cell_type": "code",
   "execution_count": 5,
   "id": "e5b09591",
   "metadata": {},
   "outputs": [
    {
     "data": {
      "text/plain": [
       "(100, 100, 3)"
      ]
     },
     "execution_count": 5,
     "metadata": {},
     "output_type": "execute_result"
    }
   ],
   "source": [
    "X = []\n",
    "Y = []\n",
    "\n",
    "for features, label in data:\n",
    "    X.append(features)   \n",
    "    Y.append(label)\n",
    "    \n",
    "    \n",
    "X = np.asarray(X)\n",
    "Y = np.asarray(Y)\n",
    "\n",
    "X = X / 255\n",
    "X.shape[1:]"
   ]
  },
  {
   "cell_type": "code",
   "execution_count": 6,
   "id": "700a6b64",
   "metadata": {},
   "outputs": [
    {
     "name": "stdout",
     "output_type": "stream",
     "text": [
      "Found 226 images belonging to 3 classes.\n",
      "Found 6 images belonging to 3 classes.\n"
     ]
    }
   ],
   "source": [
    "IMAGE_SIZE = 224\n",
    "BATCH_SIZE = 64\n",
    "\n",
    "#pre=processing\n",
    "train_datagen = tf.keras.preprocessing.image.ImageDataGenerator(\n",
    "    rescale=1./255,\n",
    "    shear_range=0.2,\n",
    "    zoom_range=0.2,\n",
    "    horizontal_flip=True,\n",
    "    validation_split=0.1\n",
    "    )\n",
    "\n",
    "test_datagen = tf.keras.preprocessing.image.ImageDataGenerator(\n",
    "     rescale=1./255,\n",
    "     validation_split=0.1\n",
    ")\n",
    "\n",
    "train_datagen = train_datagen.flow_from_directory(\n",
    "    DIRECTORY,\n",
    "    target_size = (IMAGE_SIZE,IMAGE_SIZE),\n",
    "    batch_size = BATCH_SIZE,\n",
    "    subset = 'training'\n",
    ")\n",
    "\n",
    "test_datagen = test_datagen.flow_from_directory(\n",
    "    TEST,\n",
    "    target_size = (IMAGE_SIZE,IMAGE_SIZE),\n",
    "    batch_size = BATCH_SIZE,\n",
    "    subset = 'validation'\n",
    ")"
   ]
  },
  {
   "cell_type": "code",
   "execution_count": 7,
   "id": "e86b3893",
   "metadata": {},
   "outputs": [
    {
     "data": {
      "text/plain": [
       "{'Covid': 0, 'Normal': 1, 'Viral Pneumonia': 2}"
      ]
     },
     "execution_count": 7,
     "metadata": {},
     "output_type": "execute_result"
    }
   ],
   "source": [
    "train_datagen.class_indices\n"
   ]
  },
  {
   "cell_type": "code",
   "execution_count": 19,
   "id": "8860a383",
   "metadata": {
    "scrolled": true
   },
   "outputs": [],
   "source": [
    "\n",
    "from tensorflow import keras\n",
    "from tensorflow.keras.models import Sequential\n",
    "from tensorflow.keras.layers import Conv2D,MaxPooling2D,Flatten,Dense\n",
    "\n",
    "model = Sequential()\n",
    "model.add(Conv2D(filters=32,padding='same',strides=2,kernel_size=3,activation='relu',input_shape=(224,224,3)))\n",
    "model.add(MaxPooling2D(pool_size=2,strides=2))\n",
    "\n",
    "model.add(tf.keras.layers.Conv2D(filters=32,padding='same',strides=2,kernel_size=3,activation='relu'))\n",
    "model.add(tf.keras.layers.MaxPool2D(pool_size=2,strides=2))\n",
    "\n",
    "# cnn.add(tf.keras.layers.Conv2D(filters=32,padding='same',strides=2,kernel_size=3,activation='relu'))\n",
    "# cnn.add(tf.keras.layers.MaxPool2D(pool_size=2))\n",
    "\n",
    "model.add(Flatten())\n",
    "model.add(Dense(3,activation='softmax'))"
   ]
  },
  {
   "cell_type": "code",
   "execution_count": 25,
   "id": "1e079622",
   "metadata": {},
   "outputs": [
    {
     "name": "stdout",
     "output_type": "stream",
     "text": [
      "Epoch 1/10\n",
      "4/4 [==============================] - 11s 2s/step - loss: 0.5418 - accuracy: 0.7345 - val_loss: 0.4284 - val_accuracy: 1.0000\n",
      "Epoch 2/10\n",
      "4/4 [==============================] - 9s 3s/step - loss: 0.3669 - accuracy: 0.8628 - val_loss: 0.3030 - val_accuracy: 0.8333\n",
      "Epoch 3/10\n",
      "4/4 [==============================] - 9s 2s/step - loss: 0.3904 - accuracy: 0.8451 - val_loss: 0.6390 - val_accuracy: 0.6667\n",
      "Epoch 4/10\n",
      "4/4 [==============================] - 9s 2s/step - loss: 0.3660 - accuracy: 0.8628 - val_loss: 0.3375 - val_accuracy: 1.0000\n",
      "Epoch 5/10\n",
      "4/4 [==============================] - 9s 2s/step - loss: 0.3634 - accuracy: 0.8628 - val_loss: 0.2643 - val_accuracy: 0.8333\n",
      "Epoch 6/10\n",
      "4/4 [==============================] - 9s 3s/step - loss: 0.3084 - accuracy: 0.9071 - val_loss: 0.3306 - val_accuracy: 0.6667\n",
      "Epoch 7/10\n",
      "4/4 [==============================] - 9s 2s/step - loss: 0.3308 - accuracy: 0.8584 - val_loss: 0.3903 - val_accuracy: 0.6667\n",
      "Epoch 8/10\n",
      "4/4 [==============================] - 10s 2s/step - loss: 0.3200 - accuracy: 0.8673 - val_loss: 0.3121 - val_accuracy: 0.8333\n",
      "Epoch 9/10\n",
      "4/4 [==============================] - 10s 2s/step - loss: 0.3267 - accuracy: 0.8761 - val_loss: 0.2161 - val_accuracy: 1.0000\n",
      "Epoch 10/10\n",
      "4/4 [==============================] - 10s 2s/step - loss: 0.3065 - accuracy: 0.9027 - val_loss: 0.6075 - val_accuracy: 0.6667\n"
     ]
    }
   ],
   "source": [
    "model.compile(optimizer='adam',loss='categorical_crossentropy',metrics=['accuracy'])\n",
    "\n",
    "history = model.fit(train_datagen,epochs=10,validation_data=test_datagen)"
   ]
  },
  {
   "cell_type": "code",
   "execution_count": 10,
   "id": "a1d68fd4",
   "metadata": {
    "scrolled": true
   },
   "outputs": [
    {
     "name": "stdout",
     "output_type": "stream",
     "text": [
      "Model: \"sequential\"\n",
      "_________________________________________________________________\n",
      " Layer (type)                Output Shape              Param #   \n",
      "=================================================================\n",
      " conv2d (Conv2D)             (None, 112, 112, 32)      896       \n",
      "                                                                 \n",
      " max_pooling2d (MaxPooling2D  (None, 56, 56, 32)       0         \n",
      " )                                                               \n",
      "                                                                 \n",
      " flatten (Flatten)           (None, 100352)            0         \n",
      "                                                                 \n",
      " dense (Dense)               (None, 3)                 301059    \n",
      "                                                                 \n",
      "=================================================================\n",
      "Total params: 301,955\n",
      "Trainable params: 301,955\n",
      "Non-trainable params: 0\n",
      "_________________________________________________________________\n"
     ]
    }
   ],
   "source": [
    "model.summary()"
   ]
  },
  {
   "cell_type": "code",
   "execution_count": 37,
   "id": "6c456f21",
   "metadata": {},
   "outputs": [
    {
     "data": {
      "text/plain": [
       "{'loss': [0.5417633056640625,\n",
       "  0.36685389280319214,\n",
       "  0.39042994379997253,\n",
       "  0.3659803569316864,\n",
       "  0.3634217083454132,\n",
       "  0.30840787291526794,\n",
       "  0.3307565748691559,\n",
       "  0.3200024366378784,\n",
       "  0.3267347514629364,\n",
       "  0.3064514100551605],\n",
       " 'accuracy': [0.7345132827758789,\n",
       "  0.8628318309783936,\n",
       "  0.8451327681541443,\n",
       "  0.8628318309783936,\n",
       "  0.8628318309783936,\n",
       "  0.9070796370506287,\n",
       "  0.8584070801734924,\n",
       "  0.8672566413879395,\n",
       "  0.8761062026023865,\n",
       "  0.9026548862457275],\n",
       " 'val_loss': [0.42838430404663086,\n",
       "  0.30299878120422363,\n",
       "  0.6389654278755188,\n",
       "  0.3374980390071869,\n",
       "  0.2643217444419861,\n",
       "  0.3306402266025543,\n",
       "  0.3903020918369293,\n",
       "  0.31211480498313904,\n",
       "  0.2161054164171219,\n",
       "  0.6074861884117126],\n",
       " 'val_accuracy': [1.0,\n",
       "  0.8333333134651184,\n",
       "  0.6666666865348816,\n",
       "  1.0,\n",
       "  0.8333333134651184,\n",
       "  0.6666666865348816,\n",
       "  0.6666666865348816,\n",
       "  0.8333333134651184,\n",
       "  1.0,\n",
       "  0.6666666865348816]}"
      ]
     },
     "execution_count": 37,
     "metadata": {},
     "output_type": "execute_result"
    }
   ],
   "source": [
    "a = np.array(history.history['accuracy']).mean()\n",
    "# history.history"
   ]
  },
  {
   "cell_type": "code",
   "execution_count": 24,
   "id": "726e5ff6",
   "metadata": {
    "scrolled": true
   },
   "outputs": [
    {
     "name": "stdout",
     "output_type": "stream",
     "text": [
      "1/1 [==============================] - 0s 15ms/step\n",
      "[[0.97900176 0.01753907 0.00345914]]\n",
      "Covid\n"
     ]
    }
   ],
   "source": [
    "from keras.preprocessing import image\n",
    "path = \"/home/user/ML/Deep Learning/CNN/Covid/net\"\n",
    "# path = \"/home/user/ML/Deep Learning/CNN/Covid/test/Normal\"\n",
    "img = path + \"/covid.png\"\n",
    "try:\n",
    "    \n",
    "    img_pred = tf.keras.utils.load_img(img,target_size=(IMAGE_SIZE,IMAGE_SIZE))\n",
    "    img_pred = tf.keras.utils.img_to_array(img_pred)\n",
    "    img_pred = img_pred / 255\n",
    "    img_pred = np.expand_dims(img_pred, axis=0)\n",
    "except:\n",
    "    print(\"file not found!\")\n",
    "\n",
    "result = model.predict(img_pred)\n",
    "# plt.imshow(img_pred)\n",
    "print(result)\n",
    "# print(get_label(np.argmax(result)))\n",
    "print(CATEGORIES[np.argmax(result)])"
   ]
  },
  {
   "cell_type": "code",
   "execution_count": 23,
   "id": "270f9900",
   "metadata": {},
   "outputs": [],
   "source": [
    "# model.evaluate(X,Y)"
   ]
  },
  {
   "cell_type": "code",
   "execution_count": null,
   "id": "d6e6676e",
   "metadata": {},
   "outputs": [],
   "source": []
  },
  {
   "cell_type": "code",
   "execution_count": null,
   "id": "3fe57577",
   "metadata": {},
   "outputs": [],
   "source": []
  },
  {
   "cell_type": "code",
   "execution_count": null,
   "id": "cc531028",
   "metadata": {},
   "outputs": [],
   "source": []
  }
 ],
 "metadata": {
  "kernelspec": {
   "display_name": "Python 3 (ipykernel)",
   "language": "python",
   "name": "python3"
  },
  "language_info": {
   "codemirror_mode": {
    "name": "ipython",
    "version": 3
   },
   "file_extension": ".py",
   "mimetype": "text/x-python",
   "name": "python",
   "nbconvert_exporter": "python",
   "pygments_lexer": "ipython3",
   "version": "3.9.12"
  }
 },
 "nbformat": 4,
 "nbformat_minor": 5
}
