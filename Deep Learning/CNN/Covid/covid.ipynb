{
 "cells": [
  {
   "cell_type": "code",
   "execution_count": 1,
   "id": "60326936",
   "metadata": {
    "scrolled": true
   },
   "outputs": [
    {
     "name": "stderr",
     "output_type": "stream",
     "text": [
      "2022-12-27 14:44:15.625056: I tensorflow/core/platform/cpu_feature_guard.cc:193] This TensorFlow binary is optimized with oneAPI Deep Neural Network Library (oneDNN) to use the following CPU instructions in performance-critical operations:  SSE4.1 SSE4.2\n",
      "To enable them in other operations, rebuild TensorFlow with the appropriate compiler flags.\n"
     ]
    }
   ],
   "source": [
    "import numpy as np\n",
    "import pandas as pd\n",
    "import matplotlib.pyplot as plt\n",
    "import tensorflow as tf\n",
    "import cv2\n",
    "import os\n",
    "import random"
   ]
  },
  {
   "cell_type": "code",
   "execution_count": 2,
   "id": "18d072b7",
   "metadata": {},
   "outputs": [],
   "source": [
    "DIRECTORY = r\"/Users/anisurrahman/Documents/ML/Deep Learning/CNN/Covid/train\"\n",
    "TEST = r\"/Users/anisurrahman/Documents/ML/Deep Learning/CNN/Covid/test\"\n",
    "\n",
    "CATEGORIES = [\"Covid\",\"Normal\",\"Viral Pneumonia\"]\n",
    "\n",
    "data = []\n",
    "for category in CATEGORIES:\n",
    "    folder = os.path.join(DIRECTORY,category)\n",
    "    label = CATEGORIES.index(category)\n",
    "#     print(folder)\n",
    "    for img in os.listdir(folder):\n",
    "        img = os.path.join(folder,img)\n",
    "        img_arr = cv2.imread(img)\n",
    "        img_arr = cv2.resize(img_arr,(100,100))\n",
    "#         plt.imshow(img_arr)\n",
    "#         print(img_arr)\n",
    "        data.append([img_arr,label])\n",
    "        "
   ]
  },
  {
   "cell_type": "code",
   "execution_count": 3,
   "id": "7db77e8b",
   "metadata": {},
   "outputs": [],
   "source": [
    "def get_label(index):\n",
    "    if index == 0:\n",
    "        return \"Covid\"\n",
    "    if index == 1:\n",
    "        return \"Normal\"\n",
    "    if index == 2:\n",
    "        return \"Viral Pneumonia\"\n",
    "    \n",
    "def show_pic(index): \n",
    "    plt.imshow(data[index][0])\n",
    "    plt.xlabel(get_label(data[index][1]))\n",
    "    plt.show()\n",
    "    \n",
    "# show_pic(5)\n",
    "# show_pic(1)\n"
   ]
  },
  {
   "cell_type": "code",
   "execution_count": 4,
   "id": "957edcb9",
   "metadata": {},
   "outputs": [],
   "source": [
    "random.shuffle(data)\n",
    "# show_pic(2)"
   ]
  },
  {
   "cell_type": "code",
   "execution_count": 5,
   "id": "e5b09591",
   "metadata": {},
   "outputs": [
    {
     "data": {
      "text/plain": [
       "(100, 100, 3)"
      ]
     },
     "execution_count": 5,
     "metadata": {},
     "output_type": "execute_result"
    }
   ],
   "source": [
    "X = []\n",
    "Y = []\n",
    "\n",
    "for features, label in data:\n",
    "    X.append(features)   \n",
    "    Y.append(label)\n",
    "    \n",
    "    \n",
    "X = np.asarray(X)\n",
    "Y = np.asarray(Y)\n",
    "\n",
    "X = X / 255\n",
    "X.shape[1:]"
   ]
  },
  {
   "cell_type": "code",
   "execution_count": 6,
   "id": "700a6b64",
   "metadata": {},
   "outputs": [
    {
     "name": "stdout",
     "output_type": "stream",
     "text": [
      "Found 226 images belonging to 3 classes.\n",
      "Found 6 images belonging to 3 classes.\n"
     ]
    }
   ],
   "source": [
    "IMAGE_SIZE = 224\n",
    "BATCH_SIZE = 64\n",
    "\n",
    "#pre=processing\n",
    "train_datagen = tf.keras.preprocessing.image.ImageDataGenerator(\n",
    "    rescale=1./255,\n",
    "    shear_range=0.2,\n",
    "    zoom_range=0.2,\n",
    "    horizontal_flip=True,\n",
    "    validation_split=0.1\n",
    "    )\n",
    "\n",
    "test_datagen = tf.keras.preprocessing.image.ImageDataGenerator(\n",
    "     rescale=1./255,\n",
    "     validation_split=0.1\n",
    ")\n",
    "\n",
    "train_datagen = train_datagen.flow_from_directory(\n",
    "    DIRECTORY,\n",
    "    target_size = (IMAGE_SIZE,IMAGE_SIZE),\n",
    "    batch_size = BATCH_SIZE,\n",
    "    subset = 'training'\n",
    ")\n",
    "\n",
    "test_datagen = test_datagen.flow_from_directory(\n",
    "    TEST,\n",
    "    target_size = (IMAGE_SIZE,IMAGE_SIZE),\n",
    "    batch_size = BATCH_SIZE,\n",
    "    subset = 'validation'\n",
    ")"
   ]
  },
  {
   "cell_type": "code",
   "execution_count": 7,
   "id": "e86b3893",
   "metadata": {},
   "outputs": [
    {
     "data": {
      "text/plain": [
       "{'Covid': 0, 'Normal': 1, 'Viral Pneumonia': 2}"
      ]
     },
     "execution_count": 7,
     "metadata": {},
     "output_type": "execute_result"
    }
   ],
   "source": [
    "train_datagen.class_indices\n"
   ]
  },
  {
   "cell_type": "code",
   "execution_count": 8,
   "id": "8860a383",
   "metadata": {
    "scrolled": true
   },
   "outputs": [
    {
     "name": "stderr",
     "output_type": "stream",
     "text": [
      "2022-12-27 14:44:21.931743: I tensorflow/core/platform/cpu_feature_guard.cc:193] This TensorFlow binary is optimized with oneAPI Deep Neural Network Library (oneDNN) to use the following CPU instructions in performance-critical operations:  SSE4.1 SSE4.2\n",
      "To enable them in other operations, rebuild TensorFlow with the appropriate compiler flags.\n"
     ]
    }
   ],
   "source": [
    "\n",
    "from tensorflow import keras\n",
    "from tensorflow.keras.models import Sequential\n",
    "from tensorflow.keras.layers import Conv2D,MaxPooling2D,Flatten,Dense\n",
    "\n",
    "model = Sequential()\n",
    "model.add(Conv2D(filters=32,padding='same',strides=2,kernel_size=3,activation='relu',input_shape=(224,224,3)))\n",
    "model.add(MaxPooling2D(pool_size=2,strides=2))\n",
    "\n",
    "model.add(tf.keras.layers.Conv2D(filters=32,padding='same',strides=2,kernel_size=3,activation='relu'))\n",
    "model.add(tf.keras.layers.MaxPool2D(pool_size=2,strides=2))\n",
    "\n",
    "# cnn.add(tf.keras.layers.Conv2D(filters=32,padding='same',strides=2,kernel_size=3,activation='relu'))\n",
    "# cnn.add(tf.keras.layers.MaxPool2D(pool_size=2))\n",
    "\n",
    "model.add(Flatten())\n",
    "model.add(Dense(3,activation='softmax'))"
   ]
  },
  {
   "cell_type": "code",
   "execution_count": null,
   "id": "1e079622",
   "metadata": {},
   "outputs": [
    {
     "name": "stdout",
     "output_type": "stream",
     "text": [
      "Epoch 1/10\n",
      "4/4 [==============================] - 7s 2s/step - loss: 1.0695 - accuracy: 0.4646 - val_loss: 0.9839 - val_accuracy: 0.6667\n",
      "Epoch 2/10\n",
      "4/4 [==============================] - 6s 2s/step - loss: 0.9471 - accuracy: 0.6195 - val_loss: 0.8775 - val_accuracy: 0.6667\n",
      "Epoch 3/10\n",
      "4/4 [==============================] - 6s 2s/step - loss: 0.8371 - accuracy: 0.6416 - val_loss: 0.7898 - val_accuracy: 0.6667\n",
      "Epoch 4/10\n",
      "4/4 [==============================] - 6s 1s/step - loss: 0.6858 - accuracy: 0.7522 - val_loss: 0.5524 - val_accuracy: 1.0000\n",
      "Epoch 5/10\n",
      "4/4 [==============================] - 6s 1s/step - loss: 0.5900 - accuracy: 0.7788 - val_loss: 0.5418 - val_accuracy: 0.6667\n",
      "Epoch 6/10\n",
      "4/4 [==============================] - 6s 2s/step - loss: 0.4710 - accuracy: 0.8142 - val_loss: 0.3348 - val_accuracy: 1.0000\n",
      "Epoch 7/10\n",
      "4/4 [==============================] - 6s 1s/step - loss: 0.4713 - accuracy: 0.8009 - val_loss: 0.5202 - val_accuracy: 0.6667\n",
      "Epoch 8/10\n",
      "4/4 [==============================] - 6s 2s/step - loss: 0.4732 - accuracy: 0.7965 - val_loss: 0.2989 - val_accuracy: 0.8333\n",
      "Epoch 9/10\n",
      "4/4 [==============================] - 6s 2s/step - loss: 0.3983 - accuracy: 0.8407 - val_loss: 0.3585 - val_accuracy: 0.6667\n",
      "Epoch 10/10\n",
      "3/4 [=====================>........] - ETA: 1s - loss: 0.3836 - accuracy: 0.8519"
     ]
    }
   ],
   "source": [
    "model.compile(optimizer='adam',loss='categorical_crossentropy',metrics=['accuracy'])\n",
    "\n",
    "history = model.fit(train_datagen,epochs=10,validation_data=test_datagen)"
   ]
  },
  {
   "cell_type": "code",
   "execution_count": null,
   "id": "a1d68fd4",
   "metadata": {
    "scrolled": true
   },
   "outputs": [],
   "source": [
    "model.summary()"
   ]
  },
  {
   "cell_type": "code",
   "execution_count": null,
   "id": "0f6f0d54",
   "metadata": {},
   "outputs": [],
   "source": [
    "from tensorflow.keras.models import Model\n",
    "a = np.array(history.history['accuracy']).mean()\n",
    "# history.history\n",
    "model.evaluate_generator(generator=test_datagen)"
   ]
  },
  {
   "cell_type": "code",
   "execution_count": null,
   "id": "726e5ff6",
   "metadata": {
    "scrolled": true
   },
   "outputs": [],
   "source": [
    "from keras.preprocessing import image\n",
    "path = \"/Users/anisurrahman/Documents/ML/Deep Learning/CNN/Covid/net\"\n",
    "# path = \"/home/user/ML/Deep Learning/CNN/Covid/test/Normal\"\n",
    "img = path + \"/covid.png\"\n",
    "try:\n",
    "    \n",
    "    img_pred = tf.keras.utils.load_img(img,target_size=(IMAGE_SIZE,IMAGE_SIZE))\n",
    "    img_pred = tf.keras.utils.img_to_array(img_pred)\n",
    "    img_pred = img_pred / 255\n",
    "    img_pred = np.expand_dims(img_pred, axis=0)\n",
    "except:\n",
    "    print(\"file not found!\")\n",
    "\n",
    "result = model.predict(img_pred)\n",
    "# plt.imshow(img_pred)\n",
    "print(result)\n",
    "# print(get_label(np.argmax(result)))\n",
    "print(CATEGORIES[np.argmax(result)])"
   ]
  },
  {
   "cell_type": "code",
   "execution_count": null,
   "id": "270f9900",
   "metadata": {},
   "outputs": [],
   "source": [
    "# model.evaluate(X,Y)"
   ]
  },
  {
   "cell_type": "code",
   "execution_count": null,
   "id": "d6e6676e",
   "metadata": {},
   "outputs": [],
   "source": []
  },
  {
   "cell_type": "code",
   "execution_count": null,
   "id": "3fe57577",
   "metadata": {},
   "outputs": [],
   "source": []
  },
  {
   "cell_type": "code",
   "execution_count": null,
   "id": "cc531028",
   "metadata": {},
   "outputs": [],
   "source": []
  }
 ],
 "metadata": {
  "kernelspec": {
   "display_name": "Python 3 (ipykernel)",
   "language": "python",
   "name": "python3"
  },
  "language_info": {
   "codemirror_mode": {
    "name": "ipython",
    "version": 3
   },
   "file_extension": ".py",
   "mimetype": "text/x-python",
   "name": "python",
   "nbconvert_exporter": "python",
   "pygments_lexer": "ipython3",
   "version": "3.9.15"
  }
 },
 "nbformat": 4,
 "nbformat_minor": 5
}
