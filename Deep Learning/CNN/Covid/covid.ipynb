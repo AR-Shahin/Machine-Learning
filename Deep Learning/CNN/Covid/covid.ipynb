{
 "cells": [
  {
   "cell_type": "code",
   "execution_count": 3,
   "metadata": {
    "scrolled": true
   },
   "outputs": [],
   "source": [
    "import numpy as np\n",
    "import pandas as pd\n",
    "import matplotlib.pyplot as plt\n",
    "import tensorflow as tf\n",
    "import cv2\n",
    "import os\n",
    "import random"
   ]
  },
  {
   "cell_type": "code",
   "execution_count": 6,
   "metadata": {
    "scrolled": true
   },
   "outputs": [],
   "source": [
    "DIRECTORY = r\"/home/user/Documents/ML/Deep Learning/CNN/Covid/train\"\n",
    "TEST = r\"/home/user/Documents/ML/Deep Learning/CNN/Covid/test\"\n",
    "\n",
    "CATEGORIES = [\"Covid\",\"Normal\",\"Viral Pneumonia\"]\n",
    "\n",
    "data = []\n",
    "for category in CATEGORIES:\n",
    "    folder = os.path.join(DIRECTORY,category)\n",
    "    label = CATEGORIES.index(category)\n",
    "#     print(folder)\n",
    "    for img in os.listdir(folder):\n",
    "        img = os.path.join(folder,img)\n",
    "        img_arr = cv2.imread(img)\n",
    "        img_arr = cv2.resize(img_arr,(100,100))\n",
    "#         plt.imshow(img_arr)\n",
    "#         print(img_arr)\n",
    "        data.append([img_arr,label])\n",
    "        "
   ]
  },
  {
   "cell_type": "code",
   "execution_count": 7,
   "metadata": {},
   "outputs": [],
   "source": [
    "def get_label(index):\n",
    "    if index == 0:\n",
    "        return \"Covid\"\n",
    "    if index == 1:\n",
    "        return \"Normal\"\n",
    "    if index == 2:\n",
    "        return \"Viral Pneumonia\"\n",
    "    \n",
    "def show_pic(index): \n",
    "    plt.imshow(data[index][0])\n",
    "    plt.xlabel(get_label(data[index][1]))\n",
    "    plt.show()\n",
    "    \n",
    "# show_pic(5)\n",
    "# show_pic(1)\n"
   ]
  },
  {
   "cell_type": "code",
   "execution_count": null,
   "metadata": {},
   "outputs": [],
   "source": [
    "random.shuffle(data)\n",
    "# show_pic(2)"
   ]
  },
  {
   "cell_type": "code",
   "execution_count": 8,
   "metadata": {},
   "outputs": [
    {
     "data": {
      "text/plain": [
       "(100, 100, 3)"
      ]
     },
     "execution_count": 8,
     "metadata": {},
     "output_type": "execute_result"
    }
   ],
   "source": [
    "X = []\n",
    "Y = []\n",
    "\n",
    "for features, label in data:\n",
    "    X.append(features)   \n",
    "    Y.append(label)\n",
    "    \n",
    "    \n",
    "X = np.asarray(X)\n",
    "Y = np.asarray(Y)\n",
    "\n",
    "X = X / 255\n",
    "X.shape[1:]"
   ]
  },
  {
   "cell_type": "code",
   "execution_count": 9,
   "metadata": {},
   "outputs": [
    {
     "name": "stdout",
     "output_type": "stream",
     "text": [
      "Found 226 images belonging to 3 classes.\n",
      "Found 6 images belonging to 3 classes.\n"
     ]
    }
   ],
   "source": [
    "IMAGE_SIZE = 224\n",
    "BATCH_SIZE = 64\n",
    "\n",
    "#pre=processing\n",
    "train_datagen = tf.keras.preprocessing.image.ImageDataGenerator(\n",
    "    rescale=1./255,\n",
    "    shear_range=0.2,\n",
    "    zoom_range=0.2,\n",
    "    horizontal_flip=True,\n",
    "    validation_split=0.1\n",
    "    )\n",
    "\n",
    "test_datagen = tf.keras.preprocessing.image.ImageDataGenerator(\n",
    "     rescale=1./255,\n",
    "     validation_split=0.1\n",
    ")\n",
    "\n",
    "train_datagen = train_datagen.flow_from_directory(\n",
    "    DIRECTORY,\n",
    "    target_size = (IMAGE_SIZE,IMAGE_SIZE),\n",
    "    batch_size = BATCH_SIZE,\n",
    "    subset = 'training'\n",
    ")\n",
    "\n",
    "test_datagen = test_datagen.flow_from_directory(\n",
    "    TEST,\n",
    "    target_size = (IMAGE_SIZE,IMAGE_SIZE),\n",
    "    batch_size = BATCH_SIZE,\n",
    "    subset = 'validation'\n",
    ")"
   ]
  },
  {
   "cell_type": "code",
   "execution_count": 10,
   "metadata": {},
   "outputs": [
    {
     "data": {
      "text/plain": [
       "{'Covid': 0, 'Normal': 1, 'Viral Pneumonia': 2}"
      ]
     },
     "execution_count": 10,
     "metadata": {},
     "output_type": "execute_result"
    }
   ],
   "source": [
    "train_datagen.class_indices\n"
   ]
  },
  {
   "cell_type": "code",
   "execution_count": 12,
   "metadata": {
    "scrolled": true
   },
   "outputs": [],
   "source": [
    "\n",
    "from tensorflow import keras\n",
    "from tensorflow.keras.models import Sequential\n",
    "from tensorflow.keras.layers import Conv2D,MaxPooling2D,Flatten,Dense\n",
    "\n",
    "model = Sequential()\n",
    "model.add(Conv2D(filters=32,padding='same',strides=2,kernel_size=3,activation='relu',input_shape=(224,224,3)))\n",
    "model.add(MaxPooling2D(pool_size=2,strides=2))\n",
    "\n",
    "model.add(tf.keras.layers.Conv2D(filters=32,padding='same',strides=2,kernel_size=3,activation='relu'))\n",
    "model.add(tf.keras.layers.MaxPool2D(pool_size=2,strides=2))\n",
    "\n",
    "# cnn.add(tf.keras.layers.Conv2D(filters=32,padding='same',strides=2,kernel_size=3,activation='relu'))\n",
    "# cnn.add(tf.keras.layers.MaxPool2D(pool_size=2))\n",
    "\n",
    "model.add(Flatten())\n",
    "model.add(Dense(3,activation='softmax'))"
   ]
  },
  {
   "cell_type": "code",
   "execution_count": 13,
   "metadata": {},
   "outputs": [
    {
     "name": "stdout",
     "output_type": "stream",
     "text": [
      "Epoch 1/10\n",
      "4/4 [==============================] - 10s 3s/step - loss: 1.0788 - accuracy: 0.3894 - val_loss: 1.0563 - val_accuracy: 0.3333\n",
      "Epoch 2/10\n",
      "4/4 [==============================] - 9s 2s/step - loss: 0.9496 - accuracy: 0.5531 - val_loss: 0.8841 - val_accuracy: 0.6667\n",
      "Epoch 3/10\n",
      "4/4 [==============================] - 9s 2s/step - loss: 0.7806 - accuracy: 0.7212 - val_loss: 0.8300 - val_accuracy: 0.3333\n",
      "Epoch 4/10\n",
      "4/4 [==============================] - 9s 2s/step - loss: 0.6560 - accuracy: 0.7345 - val_loss: 0.5171 - val_accuracy: 0.8333\n",
      "Epoch 5/10\n",
      "4/4 [==============================] - 11s 2s/step - loss: 0.6255 - accuracy: 0.7611 - val_loss: 0.5639 - val_accuracy: 0.6667\n",
      "Epoch 6/10\n",
      "4/4 [==============================] - 10s 2s/step - loss: 0.5723 - accuracy: 0.7168 - val_loss: 0.4295 - val_accuracy: 0.8333\n",
      "Epoch 7/10\n",
      "4/4 [==============================] - 10s 2s/step - loss: 0.5513 - accuracy: 0.7920 - val_loss: 0.3646 - val_accuracy: 1.0000\n",
      "Epoch 8/10\n",
      "4/4 [==============================] - 10s 2s/step - loss: 0.4436 - accuracy: 0.8097 - val_loss: 0.6311 - val_accuracy: 0.6667\n",
      "Epoch 9/10\n",
      "4/4 [==============================] - 9s 3s/step - loss: 0.4602 - accuracy: 0.8186 - val_loss: 0.4079 - val_accuracy: 1.0000\n",
      "Epoch 10/10\n",
      "4/4 [==============================] - 9s 2s/step - loss: 0.4827 - accuracy: 0.8097 - val_loss: 0.3877 - val_accuracy: 0.8333\n"
     ]
    }
   ],
   "source": [
    "model.compile(optimizer='adam',loss='categorical_crossentropy',metrics=['accuracy'])\n",
    "\n",
    "history = model.fit(train_datagen,epochs=10,validation_data=test_datagen)"
   ]
  },
  {
   "cell_type": "code",
   "execution_count": 14,
   "metadata": {
    "scrolled": true
   },
   "outputs": [
    {
     "name": "stdout",
     "output_type": "stream",
     "text": [
      "Model: \"sequential_1\"\n",
      "_________________________________________________________________\n",
      " Layer (type)                Output Shape              Param #   \n",
      "=================================================================\n",
      " conv2d_2 (Conv2D)           (None, 112, 112, 32)      896       \n",
      "                                                                 \n",
      " max_pooling2d_2 (MaxPooling  (None, 56, 56, 32)       0         \n",
      " 2D)                                                             \n",
      "                                                                 \n",
      " conv2d_3 (Conv2D)           (None, 28, 28, 32)        9248      \n",
      "                                                                 \n",
      " max_pooling2d_3 (MaxPooling  (None, 14, 14, 32)       0         \n",
      " 2D)                                                             \n",
      "                                                                 \n",
      " flatten_1 (Flatten)         (None, 6272)              0         \n",
      "                                                                 \n",
      " dense_1 (Dense)             (None, 3)                 18819     \n",
      "                                                                 \n",
      "=================================================================\n",
      "Total params: 28,963\n",
      "Trainable params: 28,963\n",
      "Non-trainable params: 0\n",
      "_________________________________________________________________\n"
     ]
    }
   ],
   "source": [
    "model.summary()"
   ]
  },
  {
   "cell_type": "code",
   "execution_count": 15,
   "metadata": {},
   "outputs": [
    {
     "name": "stderr",
     "output_type": "stream",
     "text": [
      "/home/user/anaconda3/lib/python3.7/site-packages/ipykernel_launcher.py:4: UserWarning: `Model.evaluate_generator` is deprecated and will be removed in a future version. Please use `Model.evaluate`, which supports generators.\n",
      "  after removing the cwd from sys.path.\n"
     ]
    },
    {
     "data": {
      "text/plain": [
       "[0.3877217769622803, 0.8333333134651184]"
      ]
     },
     "execution_count": 15,
     "metadata": {},
     "output_type": "execute_result"
    }
   ],
   "source": [
    "from tensorflow.keras.models import Model\n",
    "a = np.array(history.history['accuracy']).mean()\n",
    "# history.history\n",
    "model.evaluate_generator(generator=test_datagen)"
   ]
  },
  {
   "cell_type": "code",
   "execution_count": 18,
   "metadata": {
    "scrolled": true
   },
   "outputs": [
    {
     "name": "stdout",
     "output_type": "stream",
     "text": [
      "1/1 [==============================] - 0s 17ms/step\n",
      "[[7.8972767e-04 1.1240075e-01 8.8680953e-01]]\n",
      "Viral Pneumonia\n"
     ]
    }
   ],
   "source": [
    "from keras.preprocessing import image\n",
    "path = \"/home/user/Documents/ML/Deep Learning/CNN/Covid/net\"\n",
    "# path = \"/home/user/ML/Deep Learning/CNN/Covid/test/Normal\"\n",
    "img = path + \"/PN.jpeg\"\n",
    "try:\n",
    "    \n",
    "    img_pred = tf.keras.utils.load_img(img,target_size=(IMAGE_SIZE,IMAGE_SIZE))\n",
    "    img_pred = tf.keras.utils.img_to_array(img_pred)\n",
    "    img_pred = img_pred / 255\n",
    "    img_pred = np.expand_dims(img_pred, axis=0)\n",
    "except:\n",
    "    print(\"file not found!\")\n",
    "\n",
    "result = model.predict(img_pred)\n",
    "# plt.imshow(img_pred)\n",
    "print(result)\n",
    "# print(get_label(np.argmax(result)))\n",
    "print(CATEGORIES[np.argmax(result)])"
   ]
  },
  {
   "cell_type": "code",
   "execution_count": null,
   "metadata": {},
   "outputs": [],
   "source": [
    "# model.evaluate(X,Y)"
   ]
  },
  {
   "cell_type": "code",
   "execution_count": null,
   "metadata": {},
   "outputs": [],
   "source": []
  },
  {
   "cell_type": "code",
   "execution_count": null,
   "metadata": {},
   "outputs": [],
   "source": []
  },
  {
   "cell_type": "code",
   "execution_count": null,
   "metadata": {},
   "outputs": [],
   "source": []
  }
 ],
 "metadata": {
  "kernelspec": {
   "display_name": "Python 3",
   "language": "python",
   "name": "python3"
  },
  "language_info": {
   "codemirror_mode": {
    "name": "ipython",
    "version": 3
   },
   "file_extension": ".py",
   "mimetype": "text/x-python",
   "name": "python",
   "nbconvert_exporter": "python",
   "pygments_lexer": "ipython3",
   "version": "3.7.6"
  }
 },
 "nbformat": 4,
 "nbformat_minor": 5
}
