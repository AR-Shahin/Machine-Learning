{
 "cells": [
  {
   "cell_type": "code",
   "execution_count": 1,
   "id": "0cf13056",
   "metadata": {
    "scrolled": false
   },
   "outputs": [
    {
     "name": "stderr",
     "output_type": "stream",
     "text": [
      "2022-07-06 21:05:44.369756: W tensorflow/stream_executor/platform/default/dso_loader.cc:64] Could not load dynamic library 'libcudart.so.11.0'; dlerror: libcudart.so.11.0: cannot open shared object file: No such file or directory\n",
      "2022-07-06 21:05:44.369773: I tensorflow/stream_executor/cuda/cudart_stub.cc:29] Ignore above cudart dlerror if you do not have a GPU set up on your machine.\n"
     ]
    }
   ],
   "source": [
    "import numpy as np\n",
    "import pandas as pd \n",
    "import matplotlib.pyplot as plt \n",
    "import tensorflow as tf \n",
    "import cv2\n",
    "import os \n",
    "import random"
   ]
  },
  {
   "cell_type": "code",
   "execution_count": 5,
   "id": "f1e0d071",
   "metadata": {},
   "outputs": [],
   "source": [
    "DIRECTORY = r\"/home/user/ML/Deep Learning/CNN/Covid/train\"\n",
    "TEST = r\"/home/user/ML/Deep Learning/CNN/Covid/test\"\n",
    "\n",
    "data = []\n",
    "\n",
    "CATEGORIES = [\"Covid\",\"Normal\",\"Viral Pneumonia\"]\n",
    "\n",
    "for category in CATEGORIES:\n",
    "    folder = os.path.join(DIRECTORY,category)\n",
    "    \n",
    "    label = CATEGORIES.index(category)\n",
    "    \n",
    "    for img in os.listdir(folder):\n",
    "        img = os.path.join(folder,img)\n",
    "        img_arr = cv2.imread(img)\n",
    "        img_arr = cv2.resize(img_arr,(100,100))\n",
    "#         plt.imshow(img_arr)\n",
    "#         plt.show()\n",
    "        data.append([img_arr,label])\n"
   ]
  },
  {
   "cell_type": "code",
   "execution_count": 8,
   "id": "d63f24fc",
   "metadata": {},
   "outputs": [
    {
     "name": "stdout",
     "output_type": "stream",
     "text": [
      "Found 226 images belonging to 3 classes.\n",
      "Found 6 images belonging to 3 classes.\n"
     ]
    }
   ],
   "source": [
    "# Pre Processing \n",
    "\n",
    "IMG_SIZE = 224\n",
    "BATCH_SIZE = 64\n",
    "\n",
    "train_datagen = tf.keras.preprocessing.image.ImageDataGenerator(\n",
    "    rescale= 1./255,\n",
    "    shear_range= 0.2,\n",
    "    zoom_range= 0.2,\n",
    "    horizontal_flip= True,\n",
    "    validation_split= 0.1\n",
    ")\n",
    "\n",
    "\n",
    "test_datagen = tf.keras.preprocessing.image.ImageDataGenerator(\n",
    "    rescale= 1./255,\n",
    "    validation_split= 0.1\n",
    ")\n",
    "\n",
    "train_datagen = train_datagen.flow_from_directory(\n",
    "    DIRECTORY,\n",
    "    target_size=(IMG_SIZE,IMG_SIZE),\n",
    "    batch_size= BATCH_SIZE,\n",
    "    subset=\"training\"\n",
    ")\n",
    "\n",
    "test_datagen = test_datagen.flow_from_directory(\n",
    "    TEST,\n",
    "    target_size=(IMG_SIZE,IMG_SIZE),\n",
    "    batch_size= BATCH_SIZE,\n",
    "    subset=\"validation\"\n",
    ")"
   ]
  },
  {
   "cell_type": "code",
   "execution_count": 9,
   "id": "7bd25954",
   "metadata": {},
   "outputs": [
    {
     "data": {
      "text/plain": [
       "{'Covid': 0, 'Normal': 1, 'Viral Pneumonia': 2}"
      ]
     },
     "execution_count": 9,
     "metadata": {},
     "output_type": "execute_result"
    }
   ],
   "source": [
    "train_datagen.class_indices"
   ]
  },
  {
   "cell_type": "code",
   "execution_count": 18,
   "id": "4efaf095",
   "metadata": {},
   "outputs": [],
   "source": [
    "# Model Generate \n",
    "from tensorflow import keras\n",
    "from tensorflow.keras.models import Sequential\n",
    "from tensorflow.keras.layers import Conv2D,MaxPooling2D,Dense,Flatten\n",
    "\n",
    "model = Sequential()\n",
    "\n",
    "model.add(Conv2D(filters=32,padding=\"same\",strides=2,kernel_size=3,activation=\"relu\",input_shape=(IMG_SIZE,IMG_SIZE,3)))\n",
    "model.add(MaxPooling2D(pool_size=2,strides=2))\n",
    "\n",
    "model.add(Flatten())\n",
    "model.add(Dense(3,activation=\"softmax\"))"
   ]
  },
  {
   "cell_type": "code",
   "execution_count": 20,
   "id": "f251c774",
   "metadata": {},
   "outputs": [
    {
     "name": "stdout",
     "output_type": "stream",
     "text": [
      "Epoch 1/10\n",
      "4/4 [==============================] - 11s 2s/step - loss: 2.4656 - accuracy: 0.4159 - val_loss: 1.7789 - val_accuracy: 0.3333\n",
      "Epoch 2/10\n",
      "4/4 [==============================] - 10s 3s/step - loss: 1.2868 - accuracy: 0.5354 - val_loss: 1.1092 - val_accuracy: 0.6667\n",
      "Epoch 3/10\n",
      "4/4 [==============================] - 10s 3s/step - loss: 1.0126 - accuracy: 0.6195 - val_loss: 1.0175 - val_accuracy: 0.6667\n",
      "Epoch 4/10\n",
      "4/4 [==============================] - 10s 2s/step - loss: 0.6060 - accuracy: 0.7478 - val_loss: 0.6419 - val_accuracy: 0.6667\n",
      "Epoch 5/10\n",
      "4/4 [==============================] - 10s 2s/step - loss: 0.5869 - accuracy: 0.7920 - val_loss: 0.5709 - val_accuracy: 1.0000\n",
      "Epoch 6/10\n",
      "4/4 [==============================] - 10s 2s/step - loss: 0.5272 - accuracy: 0.7920 - val_loss: 0.6574 - val_accuracy: 0.6667\n",
      "Epoch 7/10\n",
      "4/4 [==============================] - 10s 2s/step - loss: 0.4205 - accuracy: 0.8761 - val_loss: 0.5381 - val_accuracy: 0.6667\n",
      "Epoch 8/10\n",
      "4/4 [==============================] - 10s 2s/step - loss: 0.4103 - accuracy: 0.8319 - val_loss: 0.6071 - val_accuracy: 0.5000\n",
      "Epoch 9/10\n",
      "4/4 [==============================] - 10s 2s/step - loss: 0.4108 - accuracy: 0.8274 - val_loss: 0.3926 - val_accuracy: 0.8333\n",
      "Epoch 10/10\n",
      "4/4 [==============================] - 10s 2s/step - loss: 0.3547 - accuracy: 0.8540 - val_loss: 0.3807 - val_accuracy: 0.8333\n"
     ]
    }
   ],
   "source": [
    "model.compile(optimizer=\"adam\",loss=\"categorical_crossentropy\",metrics=['accuracy'])\n",
    "history = model.fit(train_datagen,epochs=10,validation_data=test_datagen)"
   ]
  },
  {
   "cell_type": "code",
   "execution_count": 21,
   "id": "b042212f",
   "metadata": {
    "scrolled": false
   },
   "outputs": [
    {
     "name": "stdout",
     "output_type": "stream",
     "text": [
      "Model: \"sequential_3\"\n",
      "_________________________________________________________________\n",
      " Layer (type)                Output Shape              Param #   \n",
      "=================================================================\n",
      " conv2d_2 (Conv2D)           (None, 112, 112, 32)      896       \n",
      "                                                                 \n",
      " max_pooling2d_1 (MaxPooling  (None, 56, 56, 32)       0         \n",
      " 2D)                                                             \n",
      "                                                                 \n",
      " flatten (Flatten)           (None, 100352)            0         \n",
      "                                                                 \n",
      " dense (Dense)               (None, 3)                 301059    \n",
      "                                                                 \n",
      "=================================================================\n",
      "Total params: 301,955\n",
      "Trainable params: 301,955\n",
      "Non-trainable params: 0\n",
      "_________________________________________________________________\n"
     ]
    }
   ],
   "source": [
    "model.summary()"
   ]
  },
  {
   "cell_type": "code",
   "execution_count": 23,
   "id": "becf3ae4",
   "metadata": {},
   "outputs": [
    {
     "data": {
      "text/plain": [
       "0.7292035460472107"
      ]
     },
     "execution_count": 23,
     "metadata": {},
     "output_type": "execute_result"
    }
   ],
   "source": [
    "np.array(history.history['accuracy']).mean()"
   ]
  },
  {
   "cell_type": "code",
   "execution_count": 34,
   "id": "acf690a2",
   "metadata": {},
   "outputs": [
    {
     "name": "stdout",
     "output_type": "stream",
     "text": [
      "1/1 [==============================] - 0s 16ms/step\n",
      "Covid\n"
     ]
    }
   ],
   "source": [
    "from keras.preprocessing import image\n",
    "path = \"/home/user/ML/Deep Learning/CNN/Covid/net/\"\n",
    "img = path + \"in.jpeg\"\n",
    "\n",
    "img_pred = tf.keras.utils.load_img(img,target_size=(IMG_SIZE,IMG_SIZE))\n",
    "\n",
    "img_pred = tf.keras.utils.img_to_array(img_pred)\n",
    "img_pred = img_pred / 255\n",
    "img_pred = np.expand_dims(img_pred,axis=0)\n",
    "result = model.predict(img_pred)\n",
    "\n",
    "print(CATEGORIES[np.argmax(result)])"
   ]
  },
  {
   "cell_type": "code",
   "execution_count": null,
   "id": "6e161c4a",
   "metadata": {},
   "outputs": [],
   "source": []
  }
 ],
 "metadata": {
  "kernelspec": {
   "display_name": "Python 3 (ipykernel)",
   "language": "python",
   "name": "python3"
  },
  "language_info": {
   "codemirror_mode": {
    "name": "ipython",
    "version": 3
   },
   "file_extension": ".py",
   "mimetype": "text/x-python",
   "name": "python",
   "nbconvert_exporter": "python",
   "pygments_lexer": "ipython3",
   "version": "3.9.12"
  }
 },
 "nbformat": 4,
 "nbformat_minor": 5
}
