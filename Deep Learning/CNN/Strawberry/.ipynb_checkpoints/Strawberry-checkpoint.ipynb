{
 "cells": [
  {
   "cell_type": "code",
   "execution_count": 1,
   "id": "df2072e3",
   "metadata": {},
   "outputs": [],
   "source": [
    "import numpy as np\n",
    "import pandas as pd\n",
    "import matplotlib.pyplot as plt\n",
    "import cv2\n",
    "import os\n",
    "import random\n"
   ]
  },
  {
   "cell_type": "code",
   "execution_count": 2,
   "id": "c14f6406",
   "metadata": {},
   "outputs": [],
   "source": [
    "DIRECTORY = r\"/home/user/ML/Deep Learning/CNN/Strawberry/leaf\"\n",
    "\n",
    "CATAGORIES= ['Strawberry_fresh','Strawberry_scrotch']\n",
    "\n",
    "data = []\n",
    "\n",
    "for category in CATAGORIES:\n",
    "    folder = os.path.join(DIRECTORY,category)\n",
    "    label = CATAGORIES.index(category)\n",
    "#     print(label)\n",
    "    for img in os.listdir(folder):\n",
    "        img = os.path.join(folder,img)\n",
    "        img_arr = cv2.imread(img)\n",
    "        img_arr = cv2.resize(img_arr,(100,100))\n",
    "#         plt.imshow(img_arr)\n",
    "        data.append([img_arr,label])\n",
    "    \n",
    "# data[0][0]\n",
    "random.shuffle(data)\n",
    "\n",
    "X = []\n",
    "Y = []\n",
    "\n",
    "for features,label in data:\n",
    "    X.append(features)\n",
    "    Y.append(label)\n",
    "    \n",
    "X = np.asarray(X)\n",
    "Y = np.asarray(Y)\n",
    "X = X / 255\n"
   ]
  },
  {
   "cell_type": "code",
   "execution_count": 3,
   "id": "9f156d41",
   "metadata": {},
   "outputs": [
    {
     "name": "stderr",
     "output_type": "stream",
     "text": [
      "2022-07-02 20:25:34.011450: W tensorflow/stream_executor/platform/default/dso_loader.cc:64] Could not load dynamic library 'libcudart.so.11.0'; dlerror: libcudart.so.11.0: cannot open shared object file: No such file or directory; LD_LIBRARY_PATH: /home/user/anaconda3/lib/python3.9/site-packages/cv2/../../lib64:\n",
      "2022-07-02 20:25:34.011467: I tensorflow/stream_executor/cuda/cudart_stub.cc:29] Ignore above cudart dlerror if you do not have a GPU set up on your machine.\n"
     ]
    },
    {
     "name": "stdout",
     "output_type": "stream",
     "text": [
      "Epoch 1/15\n"
     ]
    },
    {
     "name": "stderr",
     "output_type": "stream",
     "text": [
      "2022-07-02 20:25:35.325286: I tensorflow/stream_executor/cuda/cuda_gpu_executor.cc:975] successful NUMA node read from SysFS had negative value (-1), but there must be at least one NUMA node, so returning NUMA node zero\n",
      "2022-07-02 20:25:35.325643: W tensorflow/stream_executor/platform/default/dso_loader.cc:64] Could not load dynamic library 'libcudart.so.11.0'; dlerror: libcudart.so.11.0: cannot open shared object file: No such file or directory; LD_LIBRARY_PATH: /home/user/anaconda3/lib/python3.9/site-packages/cv2/../../lib64:\n",
      "2022-07-02 20:25:35.325709: W tensorflow/stream_executor/platform/default/dso_loader.cc:64] Could not load dynamic library 'libcublas.so.11'; dlerror: libcublas.so.11: cannot open shared object file: No such file or directory; LD_LIBRARY_PATH: /home/user/anaconda3/lib/python3.9/site-packages/cv2/../../lib64:\n",
      "2022-07-02 20:25:35.325762: W tensorflow/stream_executor/platform/default/dso_loader.cc:64] Could not load dynamic library 'libcublasLt.so.11'; dlerror: libcublasLt.so.11: cannot open shared object file: No such file or directory; LD_LIBRARY_PATH: /home/user/anaconda3/lib/python3.9/site-packages/cv2/../../lib64:\n",
      "2022-07-02 20:25:35.325814: W tensorflow/stream_executor/platform/default/dso_loader.cc:64] Could not load dynamic library 'libcufft.so.10'; dlerror: libcufft.so.10: cannot open shared object file: No such file or directory; LD_LIBRARY_PATH: /home/user/anaconda3/lib/python3.9/site-packages/cv2/../../lib64:\n",
      "2022-07-02 20:25:35.325863: W tensorflow/stream_executor/platform/default/dso_loader.cc:64] Could not load dynamic library 'libcurand.so.10'; dlerror: libcurand.so.10: cannot open shared object file: No such file or directory; LD_LIBRARY_PATH: /home/user/anaconda3/lib/python3.9/site-packages/cv2/../../lib64:\n",
      "2022-07-02 20:25:35.325911: W tensorflow/stream_executor/platform/default/dso_loader.cc:64] Could not load dynamic library 'libcusolver.so.11'; dlerror: libcusolver.so.11: cannot open shared object file: No such file or directory; LD_LIBRARY_PATH: /home/user/anaconda3/lib/python3.9/site-packages/cv2/../../lib64:\n",
      "2022-07-02 20:25:35.325957: W tensorflow/stream_executor/platform/default/dso_loader.cc:64] Could not load dynamic library 'libcusparse.so.11'; dlerror: libcusparse.so.11: cannot open shared object file: No such file or directory; LD_LIBRARY_PATH: /home/user/anaconda3/lib/python3.9/site-packages/cv2/../../lib64:\n",
      "2022-07-02 20:25:35.326004: W tensorflow/stream_executor/platform/default/dso_loader.cc:64] Could not load dynamic library 'libcudnn.so.8'; dlerror: libcudnn.so.8: cannot open shared object file: No such file or directory; LD_LIBRARY_PATH: /home/user/anaconda3/lib/python3.9/site-packages/cv2/../../lib64:\n",
      "2022-07-02 20:25:35.326012: W tensorflow/core/common_runtime/gpu/gpu_device.cc:1850] Cannot dlopen some GPU libraries. Please make sure the missing libraries mentioned above are installed properly if you would like to use GPU. Follow the guide at https://www.tensorflow.org/install/gpu for how to download and setup the required libraries for your platform.\n",
      "Skipping registering GPU devices...\n",
      "2022-07-02 20:25:35.326220: I tensorflow/core/platform/cpu_feature_guard.cc:193] This TensorFlow binary is optimized with oneAPI Deep Neural Network Library (oneDNN) to use the following CPU instructions in performance-critical operations:  AVX2 FMA\n",
      "To enable them in other operations, rebuild TensorFlow with the appropriate compiler flags.\n"
     ]
    },
    {
     "name": "stdout",
     "output_type": "stream",
     "text": [
      "3/3 [==============================] - 1s 288ms/step - loss: 0.7196 - accuracy: 0.4556 - val_loss: 0.6812 - val_accuracy: 0.5000\n",
      "Epoch 2/15\n",
      "3/3 [==============================] - 1s 220ms/step - loss: 0.6810 - accuracy: 0.5000 - val_loss: 0.6784 - val_accuracy: 0.5000\n",
      "Epoch 3/15\n",
      "3/3 [==============================] - 1s 205ms/step - loss: 0.6621 - accuracy: 0.5000 - val_loss: 0.6443 - val_accuracy: 1.0000\n",
      "Epoch 4/15\n",
      "3/3 [==============================] - 1s 204ms/step - loss: 0.6392 - accuracy: 0.8111 - val_loss: 0.5878 - val_accuracy: 0.8000\n",
      "Epoch 5/15\n",
      "3/3 [==============================] - 1s 208ms/step - loss: 0.5980 - accuracy: 0.6778 - val_loss: 0.5389 - val_accuracy: 0.8000\n",
      "Epoch 6/15\n",
      "3/3 [==============================] - 1s 208ms/step - loss: 0.5646 - accuracy: 0.7222 - val_loss: 0.4563 - val_accuracy: 0.8000\n",
      "Epoch 7/15\n",
      "3/3 [==============================] - 1s 209ms/step - loss: 0.4878 - accuracy: 0.8333 - val_loss: 0.4296 - val_accuracy: 0.9000\n",
      "Epoch 8/15\n",
      "3/3 [==============================] - 1s 234ms/step - loss: 0.3733 - accuracy: 0.9000 - val_loss: 0.3729 - val_accuracy: 0.8000\n",
      "Epoch 9/15\n",
      "3/3 [==============================] - 1s 209ms/step - loss: 0.3446 - accuracy: 0.8556 - val_loss: 0.3023 - val_accuracy: 0.9000\n",
      "Epoch 10/15\n",
      "3/3 [==============================] - 1s 207ms/step - loss: 0.2647 - accuracy: 0.9222 - val_loss: 0.3422 - val_accuracy: 0.8000\n",
      "Epoch 11/15\n",
      "3/3 [==============================] - 1s 207ms/step - loss: 0.2609 - accuracy: 0.8889 - val_loss: 0.2334 - val_accuracy: 0.9000\n",
      "Epoch 12/15\n",
      "3/3 [==============================] - 1s 210ms/step - loss: 0.1809 - accuracy: 0.9667 - val_loss: 0.2608 - val_accuracy: 0.8000\n",
      "Epoch 13/15\n",
      "3/3 [==============================] - 1s 210ms/step - loss: 0.1642 - accuracy: 0.9333 - val_loss: 0.1544 - val_accuracy: 0.9000\n",
      "Epoch 14/15\n",
      "3/3 [==============================] - 1s 208ms/step - loss: 0.1333 - accuracy: 0.9667 - val_loss: 0.2657 - val_accuracy: 0.9000\n",
      "Epoch 15/15\n",
      "3/3 [==============================] - 1s 216ms/step - loss: 0.1282 - accuracy: 0.9333 - val_loss: 0.1402 - val_accuracy: 0.9000\n"
     ]
    },
    {
     "data": {
      "text/plain": [
       "<keras.callbacks.History at 0x7fe1d8537a30>"
      ]
     },
     "execution_count": 3,
     "metadata": {},
     "output_type": "execute_result"
    }
   ],
   "source": [
    "import tensorflow as tf\n",
    "from tensorflow import keras\n",
    "from tensorflow.keras.models import Sequential\n",
    "from tensorflow.keras.layers import Conv2D,MaxPooling2D,Flatten,Dense\n",
    "\n",
    "model = Sequential()\n",
    "model.add( Conv2D(64,(3,3),input_shape=X.shape[1:],activation='relu'))\n",
    "model.add(MaxPooling2D(pool_size=(2,2)))\n",
    "\n",
    "model.add( Conv2D(32,(3,3),activation='relu'))\n",
    "model.add(MaxPooling2D(pool_size=(2,2)))\n",
    "model.add( Conv2D(32,(3,3),activation='relu'))\n",
    "model.add(MaxPooling2D(pool_size=(2,2)))\n",
    "\n",
    "\n",
    "model.add(Flatten())\n",
    "\n",
    "model.add(Dense(2,activation='softmax'))\n",
    "model.compile(loss='sparse_categorical_crossentropy',optimizer='adam',metrics=['accuracy'])\n",
    "\n",
    "model.fit(X,Y,epochs=15,validation_split=0.1)\n",
    "\n",
    "\n",
    "# model.summary()"
   ]
  },
  {
   "cell_type": "code",
   "execution_count": 14,
   "id": "183839ac",
   "metadata": {},
   "outputs": [
    {
     "ename": "FileNotFoundError",
     "evalue": "[Errno 2] No such file or directory: 'https://media.istockphoto.com/photos/green-strawberry-leaf-isolated-on-white-picture-id1140671759?k=20&m=1140671759&s=612x612&w=0&h=rxzuACJNwTjXuUKNM_JMghIjqGt-9Rj-IYsTucwEKqg='",
     "output_type": "error",
     "traceback": [
      "\u001b[0;31m---------------------------------------------------------------------------\u001b[0m",
      "\u001b[0;31mFileNotFoundError\u001b[0m                         Traceback (most recent call last)",
      "Input \u001b[0;32mIn [14]\u001b[0m, in \u001b[0;36m<cell line: 4>\u001b[0;34m()\u001b[0m\n\u001b[1;32m      2\u001b[0m img \u001b[38;5;241m=\u001b[39m \u001b[38;5;124m\"\u001b[39m\u001b[38;5;124m/home/user/ML/Deep Learning/CNN/Strawberry/leaf/Strawberry_fresh/0b444634-b557-45f4-a68a-8e9e38cd6683___RS_HL 2184.JPG\u001b[39m\u001b[38;5;124m\"\u001b[39m\n\u001b[1;32m      3\u001b[0m img \u001b[38;5;241m=\u001b[39m \u001b[38;5;124m\"\u001b[39m\u001b[38;5;124mhttps://media.istockphoto.com/photos/green-strawberry-leaf-isolated-on-white-picture-id1140671759?k=20&m=1140671759&s=612x612&w=0&h=rxzuACJNwTjXuUKNM_JMghIjqGt-9Rj-IYsTucwEKqg=\u001b[39m\u001b[38;5;124m\"\u001b[39m\n\u001b[0;32m----> 4\u001b[0m img_pred \u001b[38;5;241m=\u001b[39m \u001b[43mtf\u001b[49m\u001b[38;5;241;43m.\u001b[39;49m\u001b[43mkeras\u001b[49m\u001b[38;5;241;43m.\u001b[39;49m\u001b[43mutils\u001b[49m\u001b[38;5;241;43m.\u001b[39;49m\u001b[43mload_img\u001b[49m\u001b[43m(\u001b[49m\u001b[43mimg\u001b[49m\u001b[43m,\u001b[49m\u001b[43mtarget_size\u001b[49m\u001b[38;5;241;43m=\u001b[39;49m\u001b[43m(\u001b[49m\u001b[38;5;241;43m100\u001b[39;49m\u001b[43m,\u001b[49m\u001b[38;5;241;43m100\u001b[39;49m\u001b[43m)\u001b[49m\u001b[43m)\u001b[49m\n\u001b[1;32m      5\u001b[0m img_pred \u001b[38;5;241m=\u001b[39m tf\u001b[38;5;241m.\u001b[39mkeras\u001b[38;5;241m.\u001b[39mutils\u001b[38;5;241m.\u001b[39mimg_to_array(img_pred)\n\u001b[1;32m      6\u001b[0m img_pred \u001b[38;5;241m=\u001b[39m np\u001b[38;5;241m.\u001b[39mexpand_dims(img_pred, axis\u001b[38;5;241m=\u001b[39m\u001b[38;5;241m0\u001b[39m)\n",
      "File \u001b[0;32m~/anaconda3/lib/python3.9/site-packages/keras/utils/image_utils.py:393\u001b[0m, in \u001b[0;36mload_img\u001b[0;34m(path, grayscale, color_mode, target_size, interpolation, keep_aspect_ratio)\u001b[0m\n\u001b[1;32m    391\u001b[0m   \u001b[38;5;28;01mif\u001b[39;00m \u001b[38;5;28misinstance\u001b[39m(path, pathlib\u001b[38;5;241m.\u001b[39mPath):\n\u001b[1;32m    392\u001b[0m     path \u001b[38;5;241m=\u001b[39m \u001b[38;5;28mstr\u001b[39m(path\u001b[38;5;241m.\u001b[39mresolve())\n\u001b[0;32m--> 393\u001b[0m   \u001b[38;5;28;01mwith\u001b[39;00m \u001b[38;5;28;43mopen\u001b[39;49m\u001b[43m(\u001b[49m\u001b[43mpath\u001b[49m\u001b[43m,\u001b[49m\u001b[43m \u001b[49m\u001b[38;5;124;43m'\u001b[39;49m\u001b[38;5;124;43mrb\u001b[39;49m\u001b[38;5;124;43m'\u001b[39;49m\u001b[43m)\u001b[49m \u001b[38;5;28;01mas\u001b[39;00m f:\n\u001b[1;32m    394\u001b[0m     img \u001b[38;5;241m=\u001b[39m pil_image\u001b[38;5;241m.\u001b[39mopen(io\u001b[38;5;241m.\u001b[39mBytesIO(f\u001b[38;5;241m.\u001b[39mread()))\n\u001b[1;32m    395\u001b[0m \u001b[38;5;28;01melse\u001b[39;00m:\n",
      "\u001b[0;31mFileNotFoundError\u001b[0m: [Errno 2] No such file or directory: 'https://media.istockphoto.com/photos/green-strawberry-leaf-isolated-on-white-picture-id1140671759?k=20&m=1140671759&s=612x612&w=0&h=rxzuACJNwTjXuUKNM_JMghIjqGt-9Rj-IYsTucwEKqg='"
     ]
    }
   ],
   "source": [
    "\n",
    "from keras.preprocessing import image\n",
    "img = \"/home/user/ML/Deep Learning/CNN/Strawberry/leaf/Strawberry_fresh/0b444634-b557-45f4-a68a-8e9e38cd6683___RS_HL 2184.JPG\"\n",
    "\n",
    "img_pred = tf.keras.utils.load_img(img,target_size=(100,100))\n",
    "img_pred = tf.keras.utils.img_to_array(img_pred)\n",
    "img_pred = np.expand_dims(img_pred, axis=0)\n",
    "\n",
    "\n",
    "rslt= model.predict(img_pred)\n",
    "\n",
    "print(rslt)\n",
    "if rslt[0][0]>rslt[0][1]:\n",
    "    prediction=\"Strawberry_fresh\"\n",
    "    \n",
    "    \n",
    "else:\n",
    "    prediction=\"Strawberry_scrotch\"\n",
    "print(prediction)\n"
   ]
  },
  {
   "cell_type": "code",
   "execution_count": null,
   "id": "ffdf0fab",
   "metadata": {},
   "outputs": [],
   "source": []
  }
 ],
 "metadata": {
  "kernelspec": {
   "display_name": "Python 3 (ipykernel)",
   "language": "python",
   "name": "python3"
  },
  "language_info": {
   "codemirror_mode": {
    "name": "ipython",
    "version": 3
   },
   "file_extension": ".py",
   "mimetype": "text/x-python",
   "name": "python",
   "nbconvert_exporter": "python",
   "pygments_lexer": "ipython3",
   "version": "3.9.12"
  }
 },
 "nbformat": 4,
 "nbformat_minor": 5
}
