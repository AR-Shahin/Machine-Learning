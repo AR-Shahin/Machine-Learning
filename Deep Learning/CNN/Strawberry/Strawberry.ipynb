{
 "cells": [
  {
   "cell_type": "code",
   "execution_count": 1,
   "id": "1dda05fa",
   "metadata": {},
   "outputs": [],
   "source": [
    "import numpy as np\n",
    "import pandas as pd\n",
    "import matplotlib.pyplot as plt\n",
    "import cv2\n",
    "import os\n",
    "import random\n"
   ]
  },
  {
   "cell_type": "code",
   "execution_count": 2,
   "id": "b5bebed4",
   "metadata": {},
   "outputs": [],
   "source": [
    "DIRECTORY = r\"/home/user/ML/Deep Learning/CNN/Strawberry/leaf\"\n",
    "\n",
    "CATAGORIES= ['Strawberry_fresh','Strawberry_scrotch']\n",
    "\n",
    "data = []\n",
    "\n",
    "for category in CATAGORIES:\n",
    "    folder = os.path.join(DIRECTORY,category)\n",
    "    label = CATAGORIES.index(category)\n",
    "#     print(label)\n",
    "    for img in os.listdir(folder):\n",
    "        img = os.path.join(folder,img)\n",
    "        img_arr = cv2.imread(img)\n",
    "        img_arr = cv2.resize(img_arr,(100,100))\n",
    "#         plt.imshow(img_arr)\n",
    "        data.append([img_arr,label])\n",
    "    \n",
    "# data[0][0]\n",
    "random.shuffle(data)\n",
    "\n",
    "X = []\n",
    "Y = []\n",
    "\n",
    "for features,label in data:\n",
    "    X.append(features)\n",
    "    Y.append(label)\n",
    "    \n",
    "X = np.asarray(X)\n",
    "Y = np.asarray(Y)\n",
    "X = X / 255\n"
   ]
  },
  {
   "cell_type": "code",
   "execution_count": 3,
   "id": "2eede63c",
   "metadata": {},
   "outputs": [
    {
     "name": "stderr",
     "output_type": "stream",
     "text": [
      "2022-07-03 08:17:11.139874: W tensorflow/stream_executor/platform/default/dso_loader.cc:64] Could not load dynamic library 'libcudart.so.11.0'; dlerror: libcudart.so.11.0: cannot open shared object file: No such file or directory; LD_LIBRARY_PATH: /home/user/anaconda3/lib/python3.9/site-packages/cv2/../../lib64:\n",
      "2022-07-03 08:17:11.139894: I tensorflow/stream_executor/cuda/cudart_stub.cc:29] Ignore above cudart dlerror if you do not have a GPU set up on your machine.\n"
     ]
    },
    {
     "name": "stdout",
     "output_type": "stream",
     "text": [
      "Epoch 1/15\n"
     ]
    },
    {
     "name": "stderr",
     "output_type": "stream",
     "text": [
      "2022-07-03 08:17:12.432054: I tensorflow/stream_executor/cuda/cuda_gpu_executor.cc:975] successful NUMA node read from SysFS had negative value (-1), but there must be at least one NUMA node, so returning NUMA node zero\n",
      "2022-07-03 08:17:12.432503: W tensorflow/stream_executor/platform/default/dso_loader.cc:64] Could not load dynamic library 'libcudart.so.11.0'; dlerror: libcudart.so.11.0: cannot open shared object file: No such file or directory; LD_LIBRARY_PATH: /home/user/anaconda3/lib/python3.9/site-packages/cv2/../../lib64:\n",
      "2022-07-03 08:17:12.432610: W tensorflow/stream_executor/platform/default/dso_loader.cc:64] Could not load dynamic library 'libcublas.so.11'; dlerror: libcublas.so.11: cannot open shared object file: No such file or directory; LD_LIBRARY_PATH: /home/user/anaconda3/lib/python3.9/site-packages/cv2/../../lib64:\n",
      "2022-07-03 08:17:12.432695: W tensorflow/stream_executor/platform/default/dso_loader.cc:64] Could not load dynamic library 'libcublasLt.so.11'; dlerror: libcublasLt.so.11: cannot open shared object file: No such file or directory; LD_LIBRARY_PATH: /home/user/anaconda3/lib/python3.9/site-packages/cv2/../../lib64:\n",
      "2022-07-03 08:17:12.432777: W tensorflow/stream_executor/platform/default/dso_loader.cc:64] Could not load dynamic library 'libcufft.so.10'; dlerror: libcufft.so.10: cannot open shared object file: No such file or directory; LD_LIBRARY_PATH: /home/user/anaconda3/lib/python3.9/site-packages/cv2/../../lib64:\n",
      "2022-07-03 08:17:12.432858: W tensorflow/stream_executor/platform/default/dso_loader.cc:64] Could not load dynamic library 'libcurand.so.10'; dlerror: libcurand.so.10: cannot open shared object file: No such file or directory; LD_LIBRARY_PATH: /home/user/anaconda3/lib/python3.9/site-packages/cv2/../../lib64:\n",
      "2022-07-03 08:17:12.432938: W tensorflow/stream_executor/platform/default/dso_loader.cc:64] Could not load dynamic library 'libcusolver.so.11'; dlerror: libcusolver.so.11: cannot open shared object file: No such file or directory; LD_LIBRARY_PATH: /home/user/anaconda3/lib/python3.9/site-packages/cv2/../../lib64:\n",
      "2022-07-03 08:17:12.433018: W tensorflow/stream_executor/platform/default/dso_loader.cc:64] Could not load dynamic library 'libcusparse.so.11'; dlerror: libcusparse.so.11: cannot open shared object file: No such file or directory; LD_LIBRARY_PATH: /home/user/anaconda3/lib/python3.9/site-packages/cv2/../../lib64:\n",
      "2022-07-03 08:17:12.433098: W tensorflow/stream_executor/platform/default/dso_loader.cc:64] Could not load dynamic library 'libcudnn.so.8'; dlerror: libcudnn.so.8: cannot open shared object file: No such file or directory; LD_LIBRARY_PATH: /home/user/anaconda3/lib/python3.9/site-packages/cv2/../../lib64:\n",
      "2022-07-03 08:17:12.433110: W tensorflow/core/common_runtime/gpu/gpu_device.cc:1850] Cannot dlopen some GPU libraries. Please make sure the missing libraries mentioned above are installed properly if you would like to use GPU. Follow the guide at https://www.tensorflow.org/install/gpu for how to download and setup the required libraries for your platform.\n",
      "Skipping registering GPU devices...\n",
      "2022-07-03 08:17:12.433420: I tensorflow/core/platform/cpu_feature_guard.cc:193] This TensorFlow binary is optimized with oneAPI Deep Neural Network Library (oneDNN) to use the following CPU instructions in performance-critical operations:  AVX2 FMA\n",
      "To enable them in other operations, rebuild TensorFlow with the appropriate compiler flags.\n"
     ]
    },
    {
     "name": "stdout",
     "output_type": "stream",
     "text": [
      "3/3 [==============================] - 1s 287ms/step - loss: 0.7457 - accuracy: 0.4444 - val_loss: 0.6800 - val_accuracy: 0.7000\n",
      "Epoch 2/15\n",
      "3/3 [==============================] - 1s 245ms/step - loss: 0.6683 - accuracy: 0.5556 - val_loss: 0.6775 - val_accuracy: 0.5000\n",
      "Epoch 3/15\n",
      "3/3 [==============================] - 1s 238ms/step - loss: 0.6361 - accuracy: 0.6556 - val_loss: 0.6289 - val_accuracy: 0.9000\n",
      "Epoch 4/15\n",
      "3/3 [==============================] - 1s 218ms/step - loss: 0.5749 - accuracy: 0.8667 - val_loss: 0.5605 - val_accuracy: 0.7000\n",
      "Epoch 5/15\n",
      "3/3 [==============================] - 1s 221ms/step - loss: 0.4852 - accuracy: 0.7889 - val_loss: 0.4491 - val_accuracy: 0.9000\n",
      "Epoch 6/15\n",
      "3/3 [==============================] - 1s 219ms/step - loss: 0.3607 - accuracy: 0.8889 - val_loss: 0.3834 - val_accuracy: 0.8000\n",
      "Epoch 7/15\n",
      "3/3 [==============================] - 1s 210ms/step - loss: 0.2734 - accuracy: 0.9333 - val_loss: 0.2155 - val_accuracy: 1.0000\n",
      "Epoch 8/15\n",
      "3/3 [==============================] - 1s 215ms/step - loss: 0.1894 - accuracy: 0.9444 - val_loss: 0.1522 - val_accuracy: 0.9000\n",
      "Epoch 9/15\n",
      "3/3 [==============================] - 1s 209ms/step - loss: 0.1339 - accuracy: 0.9333 - val_loss: 0.2296 - val_accuracy: 0.8000\n",
      "Epoch 10/15\n",
      "3/3 [==============================] - 1s 217ms/step - loss: 0.1226 - accuracy: 0.9778 - val_loss: 0.0943 - val_accuracy: 1.0000\n",
      "Epoch 11/15\n",
      "3/3 [==============================] - 1s 210ms/step - loss: 0.1312 - accuracy: 0.9444 - val_loss: 0.1527 - val_accuracy: 0.9000\n",
      "Epoch 12/15\n",
      "3/3 [==============================] - 1s 212ms/step - loss: 0.1861 - accuracy: 0.9222 - val_loss: 0.7016 - val_accuracy: 0.7000\n",
      "Epoch 13/15\n",
      "3/3 [==============================] - 1s 207ms/step - loss: 0.2143 - accuracy: 0.8778 - val_loss: 0.1442 - val_accuracy: 0.9000\n",
      "Epoch 14/15\n",
      "3/3 [==============================] - 1s 209ms/step - loss: 0.2497 - accuracy: 0.8889 - val_loss: 0.1523 - val_accuracy: 1.0000\n",
      "Epoch 15/15\n",
      "3/3 [==============================] - 1s 212ms/step - loss: 0.2242 - accuracy: 0.9000 - val_loss: 0.0586 - val_accuracy: 1.0000\n"
     ]
    },
    {
     "data": {
      "text/plain": [
       "<keras.callbacks.History at 0x7f80d8215ac0>"
      ]
     },
     "execution_count": 3,
     "metadata": {},
     "output_type": "execute_result"
    }
   ],
   "source": [
    "import tensorflow as tf\n",
    "from tensorflow import keras\n",
    "from tensorflow.keras.models import Sequential\n",
    "from tensorflow.keras.layers import Conv2D,MaxPooling2D,Flatten,Dense\n",
    "\n",
    "model = Sequential()\n",
    "model.add( Conv2D(64,(3,3),input_shape=X.shape[1:],activation='relu'))\n",
    "model.add(MaxPooling2D(pool_size=(2,2)))\n",
    "\n",
    "model.add( Conv2D(32,(3,3),activation='relu'))\n",
    "model.add(MaxPooling2D(pool_size=(2,2)))\n",
    "model.add( Conv2D(32,(3,3),activation='relu'))\n",
    "model.add(MaxPooling2D(pool_size=(2,2)))\n",
    "\n",
    "\n",
    "model.add(Flatten())\n",
    "\n",
    "model.add(Dense(2,activation='sigmoid'))\n",
    "model.compile(loss='sparse_categorical_crossentropy',optimizer='adam',metrics=['accuracy'])\n",
    "\n",
    "model.fit(X,Y,epochs=15,validation_split=0.1)\n",
    "\n",
    "\n",
    "# model.summary()"
   ]
  },
  {
   "cell_type": "code",
   "execution_count": 4,
   "id": "a0f3f752",
   "metadata": {},
   "outputs": [
    {
     "name": "stdout",
     "output_type": "stream",
     "text": [
      "1/1 [==============================] - 0s 67ms/step\n",
      "[[1. 0.]]\n",
      "Strawberry_fresh\n"
     ]
    }
   ],
   "source": [
    "\n",
    "from keras.preprocessing import image\n",
    "#img = \"/home/user/ML/Deep Learning/CNN/Strawberry/leaf/Strawberry_fresh/0b444634-b557-45f4-a68a-8e9e38cd6683___RS_HL 2184.JPG\"\n",
    "img = \"/home/user/ML/Deep Learning/CNN/Strawberry/leaf/test/test.jpg\"\n",
    "img_pred = tf.keras.utils.load_img(img,target_size=(100,100))\n",
    "img_pred = tf.keras.utils.img_to_array(img_pred)\n",
    "img_pred = np.expand_dims(img_pred, axis=0)\n",
    "\n",
    "\n",
    "rslt= model.predict(img_pred)\n",
    "\n",
    "print(rslt)\n",
    "if rslt[0][0]>rslt[0][1]:\n",
    "    prediction=\"Strawberry_fresh\"\n",
    "    \n",
    "    \n",
    "else:\n",
    "    prediction=\"Strawberry_scrotch\"\n",
    "print(prediction)\n"
   ]
  },
  {
   "cell_type": "code",
   "execution_count": null,
   "id": "e12da40b",
   "metadata": {},
   "outputs": [],
   "source": []
  }
 ],
 "metadata": {
  "kernelspec": {
   "display_name": "Python 3 (ipykernel)",
   "language": "python",
   "name": "python3"
  },
  "language_info": {
   "codemirror_mode": {
    "name": "ipython",
    "version": 3
   },
   "file_extension": ".py",
   "mimetype": "text/x-python",
   "name": "python",
   "nbconvert_exporter": "python",
   "pygments_lexer": "ipython3",
   "version": "3.9.12"
  }
 },
 "nbformat": 4,
 "nbformat_minor": 5
}
